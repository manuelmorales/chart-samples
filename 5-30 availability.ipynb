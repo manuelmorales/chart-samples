{
 "cells": [
  {
   "cell_type": "markdown",
   "id": "7d997660-335a-4573-9066-ee041a570b1d",
   "metadata": {},
   "source": [
    "# Examples of the 5-30 seconds rule\n",
    "\n",
    "See [The 5-30 seconds rule for visualisations](https://impactful.engineering/blog/the-5-30-seconds-rule) blog post.\n",
    "\n",
    "A visualisation should allow you to:\n",
    "- Understand if things are on track in less than 5 seconds.\n",
    "- Find out where they're not within 30 seconds."
   ]
  },
  {
   "cell_type": "markdown",
   "id": "7cfaf8c7-b744-4e03-84a6-1938636376fb",
   "metadata": {},
   "source": [
    "## Generating fake data"
   ]
  },
  {
   "cell_type": "code",
   "execution_count": 74,
   "id": "3d13f1ae-629d-49af-a753-a3e72a4d4a06",
   "metadata": {},
   "outputs": [
    {
     "data": {
      "text/html": [
       "<div>\n",
       "<style scoped>\n",
       "    .dataframe tbody tr th:only-of-type {\n",
       "        vertical-align: middle;\n",
       "    }\n",
       "\n",
       "    .dataframe tbody tr th {\n",
       "        vertical-align: top;\n",
       "    }\n",
       "\n",
       "    .dataframe thead th {\n",
       "        text-align: right;\n",
       "    }\n",
       "</style>\n",
       "<table border=\"1\" class=\"dataframe\">\n",
       "  <thead>\n",
       "    <tr style=\"text-align: right;\">\n",
       "      <th></th>\n",
       "      <th>w31</th>\n",
       "      <th>w32</th>\n",
       "      <th>w33</th>\n",
       "      <th>w34</th>\n",
       "      <th>w35</th>\n",
       "      <th>w36</th>\n",
       "      <th>w37</th>\n",
       "      <th>w38</th>\n",
       "      <th>w39</th>\n",
       "      <th>w40</th>\n",
       "      <th>w41</th>\n",
       "      <th>w42</th>\n",
       "    </tr>\n",
       "  </thead>\n",
       "  <tbody>\n",
       "    <tr>\n",
       "      <th>Service_A</th>\n",
       "      <td>99.63</td>\n",
       "      <td>99.35</td>\n",
       "      <td>99.88</td>\n",
       "      <td>99.95</td>\n",
       "      <td>99.95</td>\n",
       "      <td>99.95</td>\n",
       "      <td>99.95</td>\n",
       "      <td>99.95</td>\n",
       "      <td>99.95</td>\n",
       "      <td>99.95</td>\n",
       "      <td>99.95</td>\n",
       "      <td>99.95</td>\n",
       "    </tr>\n",
       "    <tr>\n",
       "      <th>Service_B</th>\n",
       "      <td>99.95</td>\n",
       "      <td>99.95</td>\n",
       "      <td>99.95</td>\n",
       "      <td>99.95</td>\n",
       "      <td>99.95</td>\n",
       "      <td>99.95</td>\n",
       "      <td>99.95</td>\n",
       "      <td>99.95</td>\n",
       "      <td>99.95</td>\n",
       "      <td>99.9</td>\n",
       "      <td>99.88</td>\n",
       "      <td>99.85</td>\n",
       "    </tr>\n",
       "    <tr>\n",
       "      <th>Service_C</th>\n",
       "      <td>99.941363</td>\n",
       "      <td>99.967061</td>\n",
       "      <td>99.947917</td>\n",
       "      <td>99.957127</td>\n",
       "      <td>99.939166</td>\n",
       "      <td>99.961577</td>\n",
       "      <td>99.934064</td>\n",
       "      <td>99.944442</td>\n",
       "      <td>99.949561</td>\n",
       "      <td>99.949037</td>\n",
       "      <td>99.964469</td>\n",
       "      <td>99.945654</td>\n",
       "    </tr>\n",
       "    <tr>\n",
       "      <th>Service_D</th>\n",
       "      <td>99.938113</td>\n",
       "      <td>99.952552</td>\n",
       "      <td>99.94628</td>\n",
       "      <td>99.96856</td>\n",
       "      <td>99.946577</td>\n",
       "      <td>99.940306</td>\n",
       "      <td>99.934273</td>\n",
       "      <td>99.95473</td>\n",
       "      <td>99.937821</td>\n",
       "      <td>99.961779</td>\n",
       "      <td>99.936267</td>\n",
       "      <td>99.939961</td>\n",
       "    </tr>\n",
       "    <tr>\n",
       "      <th>Service_E</th>\n",
       "      <td>99.933446</td>\n",
       "      <td>99.952829</td>\n",
       "      <td>99.932193</td>\n",
       "      <td>99.944588</td>\n",
       "      <td>99.952602</td>\n",
       "      <td>99.934693</td>\n",
       "      <td>99.933764</td>\n",
       "      <td>99.942063</td>\n",
       "      <td>99.967872</td>\n",
       "      <td>99.967117</td>\n",
       "      <td>99.933028</td>\n",
       "      <td>99.941947</td>\n",
       "    </tr>\n",
       "    <tr>\n",
       "      <th>Service_F</th>\n",
       "      <td>99.937197</td>\n",
       "      <td>99.963817</td>\n",
       "      <td>99.940935</td>\n",
       "      <td>99.938672</td>\n",
       "      <td>99.959061</td>\n",
       "      <td>99.938424</td>\n",
       "      <td>99.964832</td>\n",
       "      <td>99.961671</td>\n",
       "      <td>99.965333</td>\n",
       "      <td>99.949785</td>\n",
       "      <td>99.944066</td>\n",
       "      <td>99.93162</td>\n",
       "    </tr>\n",
       "    <tr>\n",
       "      <th>Service_G</th>\n",
       "      <td>99.960841</td>\n",
       "      <td>99.933546</td>\n",
       "      <td>99.965765</td>\n",
       "      <td>99.960578</td>\n",
       "      <td>99.930044</td>\n",
       "      <td>99.967861</td>\n",
       "      <td>99.962579</td>\n",
       "      <td>99.948723</td>\n",
       "      <td>99.935626</td>\n",
       "      <td>99.965019</td>\n",
       "      <td>99.949587</td>\n",
       "      <td>99.955243</td>\n",
       "    </tr>\n",
       "    <tr>\n",
       "      <th>Service_H</th>\n",
       "      <td>99.944913</td>\n",
       "      <td>99.968532</td>\n",
       "      <td>99.942927</td>\n",
       "      <td>99.934325</td>\n",
       "      <td>99.965063</td>\n",
       "      <td>99.93067</td>\n",
       "      <td>99.932605</td>\n",
       "      <td>99.962993</td>\n",
       "      <td>99.937078</td>\n",
       "      <td>99.965232</td>\n",
       "      <td>99.93526</td>\n",
       "      <td>99.948387</td>\n",
       "    </tr>\n",
       "  </tbody>\n",
       "</table>\n",
       "</div>"
      ],
      "text/plain": [
       "                 w31        w32        w33        w34        w35        w36  \\\n",
       "Service_A      99.63      99.35      99.88      99.95      99.95      99.95   \n",
       "Service_B      99.95      99.95      99.95      99.95      99.95      99.95   \n",
       "Service_C  99.941363  99.967061  99.947917  99.957127  99.939166  99.961577   \n",
       "Service_D  99.938113  99.952552   99.94628   99.96856  99.946577  99.940306   \n",
       "Service_E  99.933446  99.952829  99.932193  99.944588  99.952602  99.934693   \n",
       "Service_F  99.937197  99.963817  99.940935  99.938672  99.959061  99.938424   \n",
       "Service_G  99.960841  99.933546  99.965765  99.960578  99.930044  99.967861   \n",
       "Service_H  99.944913  99.968532  99.942927  99.934325  99.965063   99.93067   \n",
       "\n",
       "                 w37        w38        w39        w40        w41        w42  \n",
       "Service_A      99.95      99.95      99.95      99.95      99.95      99.95  \n",
       "Service_B      99.95      99.95      99.95       99.9      99.88      99.85  \n",
       "Service_C  99.934064  99.944442  99.949561  99.949037  99.964469  99.945654  \n",
       "Service_D  99.934273   99.95473  99.937821  99.961779  99.936267  99.939961  \n",
       "Service_E  99.933764  99.942063  99.967872  99.967117  99.933028  99.941947  \n",
       "Service_F  99.964832  99.961671  99.965333  99.949785  99.944066   99.93162  \n",
       "Service_G  99.962579  99.948723  99.935626  99.965019  99.949587  99.955243  \n",
       "Service_H  99.932605  99.962993  99.937078  99.965232   99.93526  99.948387  "
      ]
     },
     "execution_count": 74,
     "metadata": {},
     "output_type": "execute_result"
    }
   ],
   "source": [
    "import pandas as pd\n",
    "import numpy as np\n",
    "import plotly.express as px\n",
    "import plotly.graph_objects as go\n",
    "\n",
    "weeks = [f\"w{31 + i}\" for i in range(12)]\n",
    "services = [\"Service_A\", \"Service_B\", \"Service_C\", \"Service_D\", \"Service_E\", \"Service_F\", \"Service_G\", \"Service_H\"]\n",
    "df = pd.DataFrame(index=services, columns=weeks)\n",
    "\n",
    "for service in services:\n",
    "    if service == \"Service_A\":  # Lower availability in the first few weeks\n",
    "        df.loc[service] = [99.63, 99.35, 99.88] + [99.95] * 9\n",
    "    elif service == \"Service_B\":  # Lower availability recently\n",
    "        df.loc[service] = [99.95] * 9 + [99.9, 99.88, 99.85]\n",
    "    else:\n",
    "        df.loc[service] = [99.95 + np.random.uniform(-0.02, 0.02) for _ in range(12)]\n",
    "df"
   ]
  },
  {
   "cell_type": "markdown",
   "id": "7085bded-42a4-4e9a-a3c3-e58b130f8d92",
   "metadata": {},
   "source": [
    "## Averaging services"
   ]
  },
  {
   "cell_type": "code",
   "execution_count": 75,
   "id": "6272932f-d7a7-42c3-9042-4cbb24f325df",
   "metadata": {},
   "outputs": [
    {
     "data": {
      "application/vnd.plotly.v1+json": {
       "config": {
        "plotlyServerURL": "https://plot.ly"
       },
       "data": [
        {
         "hovertemplate": "x=%{x}<br>Average=%{y}<extra></extra>",
         "legendgroup": "",
         "line": {
          "color": "#636efa",
          "dash": "solid"
         },
         "marker": {
          "symbol": "circle"
         },
         "mode": "lines",
         "name": "",
         "orientation": "v",
         "showlegend": false,
         "type": "scatter",
         "x": [
          "w31",
          "w32",
          "w33",
          "w34",
          "w35",
          "w36",
          "w37",
          "w38",
          "w39",
          "w40",
          "w41",
          "w42"
         ],
         "xaxis": "x",
         "y": [
          99.90448403493131,
          99.8797920998834,
          99.93825205192249,
          99.95048121041076,
          99.949064125988,
          99.9466914167507,
          99.94526480911878,
          99.95182763390733,
          99.94916140140172,
          99.95099611818091,
          99.93658447516381,
          99.93285141325156
         ],
         "yaxis": "y"
        }
       ],
       "layout": {
        "autosize": true,
        "legend": {
         "tracegroupgap": 0
        },
        "shapes": [
         {
          "line": {
           "color": "red",
           "width": 2
          },
          "type": "line",
          "x0": "w31",
          "x1": "w42",
          "y0": 99.9,
          "y1": 99.9
         }
        ],
        "template": {
         "data": {
          "bar": [
           {
            "error_x": {
             "color": "#2a3f5f"
            },
            "error_y": {
             "color": "#2a3f5f"
            },
            "marker": {
             "line": {
              "color": "#E5ECF6",
              "width": 0.5
             },
             "pattern": {
              "fillmode": "overlay",
              "size": 10,
              "solidity": 0.2
             }
            },
            "type": "bar"
           }
          ],
          "barpolar": [
           {
            "marker": {
             "line": {
              "color": "#E5ECF6",
              "width": 0.5
             },
             "pattern": {
              "fillmode": "overlay",
              "size": 10,
              "solidity": 0.2
             }
            },
            "type": "barpolar"
           }
          ],
          "carpet": [
           {
            "aaxis": {
             "endlinecolor": "#2a3f5f",
             "gridcolor": "white",
             "linecolor": "white",
             "minorgridcolor": "white",
             "startlinecolor": "#2a3f5f"
            },
            "baxis": {
             "endlinecolor": "#2a3f5f",
             "gridcolor": "white",
             "linecolor": "white",
             "minorgridcolor": "white",
             "startlinecolor": "#2a3f5f"
            },
            "type": "carpet"
           }
          ],
          "choropleth": [
           {
            "colorbar": {
             "outlinewidth": 0,
             "ticks": ""
            },
            "type": "choropleth"
           }
          ],
          "contour": [
           {
            "colorbar": {
             "outlinewidth": 0,
             "ticks": ""
            },
            "colorscale": [
             [
              0,
              "#0d0887"
             ],
             [
              0.1111111111111111,
              "#46039f"
             ],
             [
              0.2222222222222222,
              "#7201a8"
             ],
             [
              0.3333333333333333,
              "#9c179e"
             ],
             [
              0.4444444444444444,
              "#bd3786"
             ],
             [
              0.5555555555555556,
              "#d8576b"
             ],
             [
              0.6666666666666666,
              "#ed7953"
             ],
             [
              0.7777777777777778,
              "#fb9f3a"
             ],
             [
              0.8888888888888888,
              "#fdca26"
             ],
             [
              1,
              "#f0f921"
             ]
            ],
            "type": "contour"
           }
          ],
          "contourcarpet": [
           {
            "colorbar": {
             "outlinewidth": 0,
             "ticks": ""
            },
            "type": "contourcarpet"
           }
          ],
          "heatmap": [
           {
            "colorbar": {
             "outlinewidth": 0,
             "ticks": ""
            },
            "colorscale": [
             [
              0,
              "#0d0887"
             ],
             [
              0.1111111111111111,
              "#46039f"
             ],
             [
              0.2222222222222222,
              "#7201a8"
             ],
             [
              0.3333333333333333,
              "#9c179e"
             ],
             [
              0.4444444444444444,
              "#bd3786"
             ],
             [
              0.5555555555555556,
              "#d8576b"
             ],
             [
              0.6666666666666666,
              "#ed7953"
             ],
             [
              0.7777777777777778,
              "#fb9f3a"
             ],
             [
              0.8888888888888888,
              "#fdca26"
             ],
             [
              1,
              "#f0f921"
             ]
            ],
            "type": "heatmap"
           }
          ],
          "heatmapgl": [
           {
            "colorbar": {
             "outlinewidth": 0,
             "ticks": ""
            },
            "colorscale": [
             [
              0,
              "#0d0887"
             ],
             [
              0.1111111111111111,
              "#46039f"
             ],
             [
              0.2222222222222222,
              "#7201a8"
             ],
             [
              0.3333333333333333,
              "#9c179e"
             ],
             [
              0.4444444444444444,
              "#bd3786"
             ],
             [
              0.5555555555555556,
              "#d8576b"
             ],
             [
              0.6666666666666666,
              "#ed7953"
             ],
             [
              0.7777777777777778,
              "#fb9f3a"
             ],
             [
              0.8888888888888888,
              "#fdca26"
             ],
             [
              1,
              "#f0f921"
             ]
            ],
            "type": "heatmapgl"
           }
          ],
          "histogram": [
           {
            "marker": {
             "pattern": {
              "fillmode": "overlay",
              "size": 10,
              "solidity": 0.2
             }
            },
            "type": "histogram"
           }
          ],
          "histogram2d": [
           {
            "colorbar": {
             "outlinewidth": 0,
             "ticks": ""
            },
            "colorscale": [
             [
              0,
              "#0d0887"
             ],
             [
              0.1111111111111111,
              "#46039f"
             ],
             [
              0.2222222222222222,
              "#7201a8"
             ],
             [
              0.3333333333333333,
              "#9c179e"
             ],
             [
              0.4444444444444444,
              "#bd3786"
             ],
             [
              0.5555555555555556,
              "#d8576b"
             ],
             [
              0.6666666666666666,
              "#ed7953"
             ],
             [
              0.7777777777777778,
              "#fb9f3a"
             ],
             [
              0.8888888888888888,
              "#fdca26"
             ],
             [
              1,
              "#f0f921"
             ]
            ],
            "type": "histogram2d"
           }
          ],
          "histogram2dcontour": [
           {
            "colorbar": {
             "outlinewidth": 0,
             "ticks": ""
            },
            "colorscale": [
             [
              0,
              "#0d0887"
             ],
             [
              0.1111111111111111,
              "#46039f"
             ],
             [
              0.2222222222222222,
              "#7201a8"
             ],
             [
              0.3333333333333333,
              "#9c179e"
             ],
             [
              0.4444444444444444,
              "#bd3786"
             ],
             [
              0.5555555555555556,
              "#d8576b"
             ],
             [
              0.6666666666666666,
              "#ed7953"
             ],
             [
              0.7777777777777778,
              "#fb9f3a"
             ],
             [
              0.8888888888888888,
              "#fdca26"
             ],
             [
              1,
              "#f0f921"
             ]
            ],
            "type": "histogram2dcontour"
           }
          ],
          "mesh3d": [
           {
            "colorbar": {
             "outlinewidth": 0,
             "ticks": ""
            },
            "type": "mesh3d"
           }
          ],
          "parcoords": [
           {
            "line": {
             "colorbar": {
              "outlinewidth": 0,
              "ticks": ""
             }
            },
            "type": "parcoords"
           }
          ],
          "pie": [
           {
            "automargin": true,
            "type": "pie"
           }
          ],
          "scatter": [
           {
            "fillpattern": {
             "fillmode": "overlay",
             "size": 10,
             "solidity": 0.2
            },
            "type": "scatter"
           }
          ],
          "scatter3d": [
           {
            "line": {
             "colorbar": {
              "outlinewidth": 0,
              "ticks": ""
             }
            },
            "marker": {
             "colorbar": {
              "outlinewidth": 0,
              "ticks": ""
             }
            },
            "type": "scatter3d"
           }
          ],
          "scattercarpet": [
           {
            "marker": {
             "colorbar": {
              "outlinewidth": 0,
              "ticks": ""
             }
            },
            "type": "scattercarpet"
           }
          ],
          "scattergeo": [
           {
            "marker": {
             "colorbar": {
              "outlinewidth": 0,
              "ticks": ""
             }
            },
            "type": "scattergeo"
           }
          ],
          "scattergl": [
           {
            "marker": {
             "colorbar": {
              "outlinewidth": 0,
              "ticks": ""
             }
            },
            "type": "scattergl"
           }
          ],
          "scattermapbox": [
           {
            "marker": {
             "colorbar": {
              "outlinewidth": 0,
              "ticks": ""
             }
            },
            "type": "scattermapbox"
           }
          ],
          "scatterpolar": [
           {
            "marker": {
             "colorbar": {
              "outlinewidth": 0,
              "ticks": ""
             }
            },
            "type": "scatterpolar"
           }
          ],
          "scatterpolargl": [
           {
            "marker": {
             "colorbar": {
              "outlinewidth": 0,
              "ticks": ""
             }
            },
            "type": "scatterpolargl"
           }
          ],
          "scatterternary": [
           {
            "marker": {
             "colorbar": {
              "outlinewidth": 0,
              "ticks": ""
             }
            },
            "type": "scatterternary"
           }
          ],
          "surface": [
           {
            "colorbar": {
             "outlinewidth": 0,
             "ticks": ""
            },
            "colorscale": [
             [
              0,
              "#0d0887"
             ],
             [
              0.1111111111111111,
              "#46039f"
             ],
             [
              0.2222222222222222,
              "#7201a8"
             ],
             [
              0.3333333333333333,
              "#9c179e"
             ],
             [
              0.4444444444444444,
              "#bd3786"
             ],
             [
              0.5555555555555556,
              "#d8576b"
             ],
             [
              0.6666666666666666,
              "#ed7953"
             ],
             [
              0.7777777777777778,
              "#fb9f3a"
             ],
             [
              0.8888888888888888,
              "#fdca26"
             ],
             [
              1,
              "#f0f921"
             ]
            ],
            "type": "surface"
           }
          ],
          "table": [
           {
            "cells": {
             "fill": {
              "color": "#EBF0F8"
             },
             "line": {
              "color": "white"
             }
            },
            "header": {
             "fill": {
              "color": "#C8D4E3"
             },
             "line": {
              "color": "white"
             }
            },
            "type": "table"
           }
          ]
         },
         "layout": {
          "annotationdefaults": {
           "arrowcolor": "#2a3f5f",
           "arrowhead": 0,
           "arrowwidth": 1
          },
          "autotypenumbers": "strict",
          "coloraxis": {
           "colorbar": {
            "outlinewidth": 0,
            "ticks": ""
           }
          },
          "colorscale": {
           "diverging": [
            [
             0,
             "#8e0152"
            ],
            [
             0.1,
             "#c51b7d"
            ],
            [
             0.2,
             "#de77ae"
            ],
            [
             0.3,
             "#f1b6da"
            ],
            [
             0.4,
             "#fde0ef"
            ],
            [
             0.5,
             "#f7f7f7"
            ],
            [
             0.6,
             "#e6f5d0"
            ],
            [
             0.7,
             "#b8e186"
            ],
            [
             0.8,
             "#7fbc41"
            ],
            [
             0.9,
             "#4d9221"
            ],
            [
             1,
             "#276419"
            ]
           ],
           "sequential": [
            [
             0,
             "#0d0887"
            ],
            [
             0.1111111111111111,
             "#46039f"
            ],
            [
             0.2222222222222222,
             "#7201a8"
            ],
            [
             0.3333333333333333,
             "#9c179e"
            ],
            [
             0.4444444444444444,
             "#bd3786"
            ],
            [
             0.5555555555555556,
             "#d8576b"
            ],
            [
             0.6666666666666666,
             "#ed7953"
            ],
            [
             0.7777777777777778,
             "#fb9f3a"
            ],
            [
             0.8888888888888888,
             "#fdca26"
            ],
            [
             1,
             "#f0f921"
            ]
           ],
           "sequentialminus": [
            [
             0,
             "#0d0887"
            ],
            [
             0.1111111111111111,
             "#46039f"
            ],
            [
             0.2222222222222222,
             "#7201a8"
            ],
            [
             0.3333333333333333,
             "#9c179e"
            ],
            [
             0.4444444444444444,
             "#bd3786"
            ],
            [
             0.5555555555555556,
             "#d8576b"
            ],
            [
             0.6666666666666666,
             "#ed7953"
            ],
            [
             0.7777777777777778,
             "#fb9f3a"
            ],
            [
             0.8888888888888888,
             "#fdca26"
            ],
            [
             1,
             "#f0f921"
            ]
           ]
          },
          "colorway": [
           "#636efa",
           "#EF553B",
           "#00cc96",
           "#ab63fa",
           "#FFA15A",
           "#19d3f3",
           "#FF6692",
           "#B6E880",
           "#FF97FF",
           "#FECB52"
          ],
          "font": {
           "color": "#2a3f5f"
          },
          "geo": {
           "bgcolor": "white",
           "lakecolor": "white",
           "landcolor": "#E5ECF6",
           "showlakes": true,
           "showland": true,
           "subunitcolor": "white"
          },
          "hoverlabel": {
           "align": "left"
          },
          "hovermode": "closest",
          "mapbox": {
           "style": "light"
          },
          "paper_bgcolor": "white",
          "plot_bgcolor": "#E5ECF6",
          "polar": {
           "angularaxis": {
            "gridcolor": "white",
            "linecolor": "white",
            "ticks": ""
           },
           "bgcolor": "#E5ECF6",
           "radialaxis": {
            "gridcolor": "white",
            "linecolor": "white",
            "ticks": ""
           }
          },
          "scene": {
           "xaxis": {
            "backgroundcolor": "#E5ECF6",
            "gridcolor": "white",
            "gridwidth": 2,
            "linecolor": "white",
            "showbackground": true,
            "ticks": "",
            "zerolinecolor": "white"
           },
           "yaxis": {
            "backgroundcolor": "#E5ECF6",
            "gridcolor": "white",
            "gridwidth": 2,
            "linecolor": "white",
            "showbackground": true,
            "ticks": "",
            "zerolinecolor": "white"
           },
           "zaxis": {
            "backgroundcolor": "#E5ECF6",
            "gridcolor": "white",
            "gridwidth": 2,
            "linecolor": "white",
            "showbackground": true,
            "ticks": "",
            "zerolinecolor": "white"
           }
          },
          "shapedefaults": {
           "line": {
            "color": "#2a3f5f"
           }
          },
          "ternary": {
           "aaxis": {
            "gridcolor": "white",
            "linecolor": "white",
            "ticks": ""
           },
           "baxis": {
            "gridcolor": "white",
            "linecolor": "white",
            "ticks": ""
           },
           "bgcolor": "#E5ECF6",
           "caxis": {
            "gridcolor": "white",
            "linecolor": "white",
            "ticks": ""
           }
          },
          "title": {
           "x": 0.05
          },
          "xaxis": {
           "automargin": true,
           "gridcolor": "white",
           "linecolor": "white",
           "ticks": "",
           "title": {
            "standoff": 15
           },
           "zerolinecolor": "white",
           "zerolinewidth": 2
          },
          "yaxis": {
           "automargin": true,
           "gridcolor": "white",
           "linecolor": "white",
           "ticks": "",
           "title": {
            "standoff": 15
           },
           "zerolinecolor": "white",
           "zerolinewidth": 2
          }
         }
        },
        "title": {
         "text": "Average Availability of All Services Over Time"
        },
        "xaxis": {
         "anchor": "y",
         "autorange": true,
         "domain": [
          0,
          1
         ],
         "range": [
          -0.01639344262295082,
          11.01639344262295
         ],
         "title": {
          "text": "Week"
         },
         "type": "category"
        },
        "yaxis": {
         "anchor": "x",
         "autorange": true,
         "domain": [
          0,
          1
         ],
         "range": [
          99.87579012577096,
          99.95582960801977
         ],
         "title": {
          "text": "Avg. Availability"
         },
         "type": "linear"
        }
       }
      },
      "image/png": "[encoded data removed]",
      "text/html": [
       "<div>                            <div id=\"38305434-5020-4e32-bc7e-9c193d547a73\" class=\"plotly-graph-div\" style=\"height:525px; width:100%;\"></div>            <script type=\"text/javascript\">                require([\"plotly\"], function(Plotly) {                    window.PLOTLYENV=window.PLOTLYENV || {};                                    if (document.getElementById(\"38305434-5020-4e32-bc7e-9c193d547a73\")) {                    Plotly.newPlot(                        \"38305434-5020-4e32-bc7e-9c193d547a73\",                        [{\"hovertemplate\":\"x=%{x}<br>Average=%{y}<extra></extra>\",\"legendgroup\":\"\",\"line\":{\"color\":\"#636efa\",\"dash\":\"solid\"},\"marker\":{\"symbol\":\"circle\"},\"mode\":\"lines\",\"name\":\"\",\"orientation\":\"v\",\"showlegend\":false,\"x\":[\"w31\",\"w32\",\"w33\",\"w34\",\"w35\",\"w36\",\"w37\",\"w38\",\"w39\",\"w40\",\"w41\",\"w42\"],\"xaxis\":\"x\",\"y\":[99.90448403493131,99.8797920998834,99.93825205192249,99.95048121041076,99.949064125988,99.9466914167507,99.94526480911878,99.95182763390733,99.94916140140172,99.95099611818091,99.93658447516381,99.93285141325156],\"yaxis\":\"y\",\"type\":\"scatter\"}],                        {\"template\":{\"data\":{\"histogram2dcontour\":[{\"type\":\"histogram2dcontour\",\"colorbar\":{\"outlinewidth\":0,\"ticks\":\"\"},\"colorscale\":[[0.0,\"#0d0887\"],[0.1111111111111111,\"#46039f\"],[0.2222222222222222,\"#7201a8\"],[0.3333333333333333,\"#9c179e\"],[0.4444444444444444,\"#bd3786\"],[0.5555555555555556,\"#d8576b\"],[0.6666666666666666,\"#ed7953\"],[0.7777777777777778,\"#fb9f3a\"],[0.8888888888888888,\"#fdca26\"],[1.0,\"#f0f921\"]]}],\"choropleth\":[{\"type\":\"choropleth\",\"colorbar\":{\"outlinewidth\":0,\"ticks\":\"\"}}],\"histogram2d\":[{\"type\":\"histogram2d\",\"colorbar\":{\"outlinewidth\":0,\"ticks\":\"\"},\"colorscale\":[[0.0,\"#0d0887\"],[0.1111111111111111,\"#46039f\"],[0.2222222222222222,\"#7201a8\"],[0.3333333333333333,\"#9c179e\"],[0.4444444444444444,\"#bd3786\"],[0.5555555555555556,\"#d8576b\"],[0.6666666666666666,\"#ed7953\"],[0.7777777777777778,\"#fb9f3a\"],[0.8888888888888888,\"#fdca26\"],[1.0,\"#f0f921\"]]}],\"heatmap\":[{\"type\":\"heatmap\",\"colorbar\":{\"outlinewidth\":0,\"ticks\":\"\"},\"colorscale\":[[0.0,\"#0d0887\"],[0.1111111111111111,\"#46039f\"],[0.2222222222222222,\"#7201a8\"],[0.3333333333333333,\"#9c179e\"],[0.4444444444444444,\"#bd3786\"],[0.5555555555555556,\"#d8576b\"],[0.6666666666666666,\"#ed7953\"],[0.7777777777777778,\"#fb9f3a\"],[0.8888888888888888,\"#fdca26\"],[1.0,\"#f0f921\"]]}],\"heatmapgl\":[{\"type\":\"heatmapgl\",\"colorbar\":{\"outlinewidth\":0,\"ticks\":\"\"},\"colorscale\":[[0.0,\"#0d0887\"],[0.1111111111111111,\"#46039f\"],[0.2222222222222222,\"#7201a8\"],[0.3333333333333333,\"#9c179e\"],[0.4444444444444444,\"#bd3786\"],[0.5555555555555556,\"#d8576b\"],[0.6666666666666666,\"#ed7953\"],[0.7777777777777778,\"#fb9f3a\"],[0.8888888888888888,\"#fdca26\"],[1.0,\"#f0f921\"]]}],\"contourcarpet\":[{\"type\":\"contourcarpet\",\"colorbar\":{\"outlinewidth\":0,\"ticks\":\"\"}}],\"contour\":[{\"type\":\"contour\",\"colorbar\":{\"outlinewidth\":0,\"ticks\":\"\"},\"colorscale\":[[0.0,\"#0d0887\"],[0.1111111111111111,\"#46039f\"],[0.2222222222222222,\"#7201a8\"],[0.3333333333333333,\"#9c179e\"],[0.4444444444444444,\"#bd3786\"],[0.5555555555555556,\"#d8576b\"],[0.6666666666666666,\"#ed7953\"],[0.7777777777777778,\"#fb9f3a\"],[0.8888888888888888,\"#fdca26\"],[1.0,\"#f0f921\"]]}],\"surface\":[{\"type\":\"surface\",\"colorbar\":{\"outlinewidth\":0,\"ticks\":\"\"},\"colorscale\":[[0.0,\"#0d0887\"],[0.1111111111111111,\"#46039f\"],[0.2222222222222222,\"#7201a8\"],[0.3333333333333333,\"#9c179e\"],[0.4444444444444444,\"#bd3786\"],[0.5555555555555556,\"#d8576b\"],[0.6666666666666666,\"#ed7953\"],[0.7777777777777778,\"#fb9f3a\"],[0.8888888888888888,\"#fdca26\"],[1.0,\"#f0f921\"]]}],\"mesh3d\":[{\"type\":\"mesh3d\",\"colorbar\":{\"outlinewidth\":0,\"ticks\":\"\"}}],\"scatter\":[{\"fillpattern\":{\"fillmode\":\"overlay\",\"size\":10,\"solidity\":0.2},\"type\":\"scatter\"}],\"parcoords\":[{\"type\":\"parcoords\",\"line\":{\"colorbar\":{\"outlinewidth\":0,\"ticks\":\"\"}}}],\"scatterpolargl\":[{\"type\":\"scatterpolargl\",\"marker\":{\"colorbar\":{\"outlinewidth\":0,\"ticks\":\"\"}}}],\"bar\":[{\"error_x\":{\"color\":\"#2a3f5f\"},\"error_y\":{\"color\":\"#2a3f5f\"},\"marker\":{\"line\":{\"color\":\"#E5ECF6\",\"width\":0.5},\"pattern\":{\"fillmode\":\"overlay\",\"size\":10,\"solidity\":0.2}},\"type\":\"bar\"}],\"scattergeo\":[{\"type\":\"scattergeo\",\"marker\":{\"colorbar\":{\"outlinewidth\":0,\"ticks\":\"\"}}}],\"scatterpolar\":[{\"type\":\"scatterpolar\",\"marker\":{\"colorbar\":{\"outlinewidth\":0,\"ticks\":\"\"}}}],\"histogram\":[{\"marker\":{\"pattern\":{\"fillmode\":\"overlay\",\"size\":10,\"solidity\":0.2}},\"type\":\"histogram\"}],\"scattergl\":[{\"type\":\"scattergl\",\"marker\":{\"colorbar\":{\"outlinewidth\":0,\"ticks\":\"\"}}}],\"scatter3d\":[{\"type\":\"scatter3d\",\"line\":{\"colorbar\":{\"outlinewidth\":0,\"ticks\":\"\"}},\"marker\":{\"colorbar\":{\"outlinewidth\":0,\"ticks\":\"\"}}}],\"scattermapbox\":[{\"type\":\"scattermapbox\",\"marker\":{\"colorbar\":{\"outlinewidth\":0,\"ticks\":\"\"}}}],\"scatterternary\":[{\"type\":\"scatterternary\",\"marker\":{\"colorbar\":{\"outlinewidth\":0,\"ticks\":\"\"}}}],\"scattercarpet\":[{\"type\":\"scattercarpet\",\"marker\":{\"colorbar\":{\"outlinewidth\":0,\"ticks\":\"\"}}}],\"carpet\":[{\"aaxis\":{\"endlinecolor\":\"#2a3f5f\",\"gridcolor\":\"white\",\"linecolor\":\"white\",\"minorgridcolor\":\"white\",\"startlinecolor\":\"#2a3f5f\"},\"baxis\":{\"endlinecolor\":\"#2a3f5f\",\"gridcolor\":\"white\",\"linecolor\":\"white\",\"minorgridcolor\":\"white\",\"startlinecolor\":\"#2a3f5f\"},\"type\":\"carpet\"}],\"table\":[{\"cells\":{\"fill\":{\"color\":\"#EBF0F8\"},\"line\":{\"color\":\"white\"}},\"header\":{\"fill\":{\"color\":\"#C8D4E3\"},\"line\":{\"color\":\"white\"}},\"type\":\"table\"}],\"barpolar\":[{\"marker\":{\"line\":{\"color\":\"#E5ECF6\",\"width\":0.5},\"pattern\":{\"fillmode\":\"overlay\",\"size\":10,\"solidity\":0.2}},\"type\":\"barpolar\"}],\"pie\":[{\"automargin\":true,\"type\":\"pie\"}]},\"layout\":{\"autotypenumbers\":\"strict\",\"colorway\":[\"#636efa\",\"#EF553B\",\"#00cc96\",\"#ab63fa\",\"#FFA15A\",\"#19d3f3\",\"#FF6692\",\"#B6E880\",\"#FF97FF\",\"#FECB52\"],\"font\":{\"color\":\"#2a3f5f\"},\"hovermode\":\"closest\",\"hoverlabel\":{\"align\":\"left\"},\"paper_bgcolor\":\"white\",\"plot_bgcolor\":\"#E5ECF6\",\"polar\":{\"bgcolor\":\"#E5ECF6\",\"angularaxis\":{\"gridcolor\":\"white\",\"linecolor\":\"white\",\"ticks\":\"\"},\"radialaxis\":{\"gridcolor\":\"white\",\"linecolor\":\"white\",\"ticks\":\"\"}},\"ternary\":{\"bgcolor\":\"#E5ECF6\",\"aaxis\":{\"gridcolor\":\"white\",\"linecolor\":\"white\",\"ticks\":\"\"},\"baxis\":{\"gridcolor\":\"white\",\"linecolor\":\"white\",\"ticks\":\"\"},\"caxis\":{\"gridcolor\":\"white\",\"linecolor\":\"white\",\"ticks\":\"\"}},\"coloraxis\":{\"colorbar\":{\"outlinewidth\":0,\"ticks\":\"\"}},\"colorscale\":{\"sequential\":[[0.0,\"#0d0887\"],[0.1111111111111111,\"#46039f\"],[0.2222222222222222,\"#7201a8\"],[0.3333333333333333,\"#9c179e\"],[0.4444444444444444,\"#bd3786\"],[0.5555555555555556,\"#d8576b\"],[0.6666666666666666,\"#ed7953\"],[0.7777777777777778,\"#fb9f3a\"],[0.8888888888888888,\"#fdca26\"],[1.0,\"#f0f921\"]],\"sequentialminus\":[[0.0,\"#0d0887\"],[0.1111111111111111,\"#46039f\"],[0.2222222222222222,\"#7201a8\"],[0.3333333333333333,\"#9c179e\"],[0.4444444444444444,\"#bd3786\"],[0.5555555555555556,\"#d8576b\"],[0.6666666666666666,\"#ed7953\"],[0.7777777777777778,\"#fb9f3a\"],[0.8888888888888888,\"#fdca26\"],[1.0,\"#f0f921\"]],\"diverging\":[[0,\"#8e0152\"],[0.1,\"#c51b7d\"],[0.2,\"#de77ae\"],[0.3,\"#f1b6da\"],[0.4,\"#fde0ef\"],[0.5,\"#f7f7f7\"],[0.6,\"#e6f5d0\"],[0.7,\"#b8e186\"],[0.8,\"#7fbc41\"],[0.9,\"#4d9221\"],[1,\"#276419\"]]},\"xaxis\":{\"gridcolor\":\"white\",\"linecolor\":\"white\",\"ticks\":\"\",\"title\":{\"standoff\":15},\"zerolinecolor\":\"white\",\"automargin\":true,\"zerolinewidth\":2},\"yaxis\":{\"gridcolor\":\"white\",\"linecolor\":\"white\",\"ticks\":\"\",\"title\":{\"standoff\":15},\"zerolinecolor\":\"white\",\"automargin\":true,\"zerolinewidth\":2},\"scene\":{\"xaxis\":{\"backgroundcolor\":\"#E5ECF6\",\"gridcolor\":\"white\",\"linecolor\":\"white\",\"showbackground\":true,\"ticks\":\"\",\"zerolinecolor\":\"white\",\"gridwidth\":2},\"yaxis\":{\"backgroundcolor\":\"#E5ECF6\",\"gridcolor\":\"white\",\"linecolor\":\"white\",\"showbackground\":true,\"ticks\":\"\",\"zerolinecolor\":\"white\",\"gridwidth\":2},\"zaxis\":{\"backgroundcolor\":\"#E5ECF6\",\"gridcolor\":\"white\",\"linecolor\":\"white\",\"showbackground\":true,\"ticks\":\"\",\"zerolinecolor\":\"white\",\"gridwidth\":2}},\"shapedefaults\":{\"line\":{\"color\":\"#2a3f5f\"}},\"annotationdefaults\":{\"arrowcolor\":\"#2a3f5f\",\"arrowhead\":0,\"arrowwidth\":1},\"geo\":{\"bgcolor\":\"white\",\"landcolor\":\"#E5ECF6\",\"subunitcolor\":\"white\",\"showland\":true,\"showlakes\":true,\"lakecolor\":\"white\"},\"title\":{\"x\":0.05},\"mapbox\":{\"style\":\"light\"}}},\"xaxis\":{\"anchor\":\"y\",\"domain\":[0.0,1.0],\"title\":{\"text\":\"Week\"}},\"yaxis\":{\"anchor\":\"x\",\"domain\":[0.0,1.0],\"title\":{\"text\":\"Avg. Availability\"}},\"legend\":{\"tracegroupgap\":0},\"title\":{\"text\":\"Average Availability of All Services Over Time\"},\"shapes\":[{\"line\":{\"color\":\"red\",\"width\":2},\"type\":\"line\",\"x0\":\"w31\",\"x1\":\"w42\",\"y0\":99.9,\"y1\":99.9}]},                        {\"responsive\": true}                    ).then(function(){\n",
       "                            \n",
       "var gd = document.getElementById('38305434-5020-4e32-bc7e-9c193d547a73');\n",
       "var x = new MutationObserver(function (mutations, observer) {{\n",
       "        var display = window.getComputedStyle(gd).display;\n",
       "        if (!display || display === 'none') {{\n",
       "            console.log([gd, 'removed!']);\n",
       "            Plotly.purge(gd);\n",
       "            observer.disconnect();\n",
       "        }}\n",
       "}});\n",
       "\n",
       "// Listen for the removal of the full notebook cells\n",
       "var notebookContainer = gd.closest('#notebook-container');\n",
       "if (notebookContainer) {{\n",
       "    x.observe(notebookContainer, {childList: true});\n",
       "}}\n",
       "\n",
       "// Listen for the clearing of the current output cell\n",
       "var outputEl = gd.closest('.output');\n",
       "if (outputEl) {{\n",
       "    x.observe(outputEl, {childList: true});\n",
       "}}\n",
       "\n",
       "                        })                };                });            </script>        </div>"
      ]
     },
     "metadata": {},
     "output_type": "display_data"
    }
   ],
   "source": [
    "df_avg = pd.DataFrame()\n",
    "df_avg['Average'] = df.mean(axis=0)\n",
    "df_avg.reset_index()\n",
    "fig = px.line(df_avg.reset_index(), x=weeks, y='Average', title='Average Availability of All Services Over Time')\n",
    "\n",
    "fig.add_shape(\n",
    "    go.layout.Shape(\n",
    "        type=\"line\",\n",
    "        x0=weeks[0],\n",
    "        x1=weeks[-1],\n",
    "        y0=99.9,\n",
    "        y1=99.9,\n",
    "        line=dict(color=\"red\", width=2),\n",
    "    )\n",
    ")\n",
    "\n",
    "fig.update_xaxes(title_text='Week')\n",
    "fig.update_yaxes(title_text='Avg. Availability')\n",
    "\n",
    "fig.show()"
   ]
  },
  {
   "cell_type": "markdown",
   "id": "23e08e30-e54b-4117-b753-9fb65a52feb8",
   "metadata": {},
   "source": [
    "## Stacked area chart"
   ]
  },
  {
   "cell_type": "code",
   "execution_count": 76,
   "id": "d8b45030-f476-44f0-a3fe-965432969107",
   "metadata": {},
   "outputs": [
    {
     "data": {
      "application/vnd.plotly.v1+json": {
       "config": {
        "plotlyServerURL": "https://plot.ly"
       },
       "data": [
        {
         "fill": "tozeroy",
         "fillcolor": "rgba(144, 238, 144, 0.7)",
         "mode": "none",
         "name": "Compliant",
         "type": "scatter",
         "x": [
          "w31",
          "w32",
          "w33",
          "w34",
          "w35",
          "w36",
          "w37",
          "w38",
          "w39",
          "w40",
          "w41",
          "w42"
         ],
         "y": [
          7,
          7,
          7,
          8,
          8,
          8,
          8,
          8,
          8,
          8,
          7,
          7
         ]
        },
        {
         "fill": "tonexty",
         "fillcolor": "rgba(255, 182, 193, 0.7)",
         "mode": "none",
         "name": "Non-Compliant",
         "type": "scatter",
         "x": [
          "w31",
          "w32",
          "w33",
          "w34",
          "w35",
          "w36",
          "w37",
          "w38",
          "w39",
          "w40",
          "w41",
          "w42"
         ],
         "y": [
          8,
          8,
          8,
          8,
          8,
          8,
          8,
          8,
          8,
          8,
          8,
          8
         ]
        }
       ],
       "layout": {
        "autosize": true,
        "template": {
         "data": {
          "bar": [
           {
            "error_x": {
             "color": "#2a3f5f"
            },
            "error_y": {
             "color": "#2a3f5f"
            },
            "marker": {
             "line": {
              "color": "#E5ECF6",
              "width": 0.5
             },
             "pattern": {
              "fillmode": "overlay",
              "size": 10,
              "solidity": 0.2
             }
            },
            "type": "bar"
           }
          ],
          "barpolar": [
           {
            "marker": {
             "line": {
              "color": "#E5ECF6",
              "width": 0.5
             },
             "pattern": {
              "fillmode": "overlay",
              "size": 10,
              "solidity": 0.2
             }
            },
            "type": "barpolar"
           }
          ],
          "carpet": [
           {
            "aaxis": {
             "endlinecolor": "#2a3f5f",
             "gridcolor": "white",
             "linecolor": "white",
             "minorgridcolor": "white",
             "startlinecolor": "#2a3f5f"
            },
            "baxis": {
             "endlinecolor": "#2a3f5f",
             "gridcolor": "white",
             "linecolor": "white",
             "minorgridcolor": "white",
             "startlinecolor": "#2a3f5f"
            },
            "type": "carpet"
           }
          ],
          "choropleth": [
           {
            "colorbar": {
             "outlinewidth": 0,
             "ticks": ""
            },
            "type": "choropleth"
           }
          ],
          "contour": [
           {
            "colorbar": {
             "outlinewidth": 0,
             "ticks": ""
            },
            "colorscale": [
             [
              0,
              "#0d0887"
             ],
             [
              0.1111111111111111,
              "#46039f"
             ],
             [
              0.2222222222222222,
              "#7201a8"
             ],
             [
              0.3333333333333333,
              "#9c179e"
             ],
             [
              0.4444444444444444,
              "#bd3786"
             ],
             [
              0.5555555555555556,
              "#d8576b"
             ],
             [
              0.6666666666666666,
              "#ed7953"
             ],
             [
              0.7777777777777778,
              "#fb9f3a"
             ],
             [
              0.8888888888888888,
              "#fdca26"
             ],
             [
              1,
              "#f0f921"
             ]
            ],
            "type": "contour"
           }
          ],
          "contourcarpet": [
           {
            "colorbar": {
             "outlinewidth": 0,
             "ticks": ""
            },
            "type": "contourcarpet"
           }
          ],
          "heatmap": [
           {
            "colorbar": {
             "outlinewidth": 0,
             "ticks": ""
            },
            "colorscale": [
             [
              0,
              "#0d0887"
             ],
             [
              0.1111111111111111,
              "#46039f"
             ],
             [
              0.2222222222222222,
              "#7201a8"
             ],
             [
              0.3333333333333333,
              "#9c179e"
             ],
             [
              0.4444444444444444,
              "#bd3786"
             ],
             [
              0.5555555555555556,
              "#d8576b"
             ],
             [
              0.6666666666666666,
              "#ed7953"
             ],
             [
              0.7777777777777778,
              "#fb9f3a"
             ],
             [
              0.8888888888888888,
              "#fdca26"
             ],
             [
              1,
              "#f0f921"
             ]
            ],
            "type": "heatmap"
           }
          ],
          "heatmapgl": [
           {
            "colorbar": {
             "outlinewidth": 0,
             "ticks": ""
            },
            "colorscale": [
             [
              0,
              "#0d0887"
             ],
             [
              0.1111111111111111,
              "#46039f"
             ],
             [
              0.2222222222222222,
              "#7201a8"
             ],
             [
              0.3333333333333333,
              "#9c179e"
             ],
             [
              0.4444444444444444,
              "#bd3786"
             ],
             [
              0.5555555555555556,
              "#d8576b"
             ],
             [
              0.6666666666666666,
              "#ed7953"
             ],
             [
              0.7777777777777778,
              "#fb9f3a"
             ],
             [
              0.8888888888888888,
              "#fdca26"
             ],
             [
              1,
              "#f0f921"
             ]
            ],
            "type": "heatmapgl"
           }
          ],
          "histogram": [
           {
            "marker": {
             "pattern": {
              "fillmode": "overlay",
              "size": 10,
              "solidity": 0.2
             }
            },
            "type": "histogram"
           }
          ],
          "histogram2d": [
           {
            "colorbar": {
             "outlinewidth": 0,
             "ticks": ""
            },
            "colorscale": [
             [
              0,
              "#0d0887"
             ],
             [
              0.1111111111111111,
              "#46039f"
             ],
             [
              0.2222222222222222,
              "#7201a8"
             ],
             [
              0.3333333333333333,
              "#9c179e"
             ],
             [
              0.4444444444444444,
              "#bd3786"
             ],
             [
              0.5555555555555556,
              "#d8576b"
             ],
             [
              0.6666666666666666,
              "#ed7953"
             ],
             [
              0.7777777777777778,
              "#fb9f3a"
             ],
             [
              0.8888888888888888,
              "#fdca26"
             ],
             [
              1,
              "#f0f921"
             ]
            ],
            "type": "histogram2d"
           }
          ],
          "histogram2dcontour": [
           {
            "colorbar": {
             "outlinewidth": 0,
             "ticks": ""
            },
            "colorscale": [
             [
              0,
              "#0d0887"
             ],
             [
              0.1111111111111111,
              "#46039f"
             ],
             [
              0.2222222222222222,
              "#7201a8"
             ],
             [
              0.3333333333333333,
              "#9c179e"
             ],
             [
              0.4444444444444444,
              "#bd3786"
             ],
             [
              0.5555555555555556,
              "#d8576b"
             ],
             [
              0.6666666666666666,
              "#ed7953"
             ],
             [
              0.7777777777777778,
              "#fb9f3a"
             ],
             [
              0.8888888888888888,
              "#fdca26"
             ],
             [
              1,
              "#f0f921"
             ]
            ],
            "type": "histogram2dcontour"
           }
          ],
          "mesh3d": [
           {
            "colorbar": {
             "outlinewidth": 0,
             "ticks": ""
            },
            "type": "mesh3d"
           }
          ],
          "parcoords": [
           {
            "line": {
             "colorbar": {
              "outlinewidth": 0,
              "ticks": ""
             }
            },
            "type": "parcoords"
           }
          ],
          "pie": [
           {
            "automargin": true,
            "type": "pie"
           }
          ],
          "scatter": [
           {
            "fillpattern": {
             "fillmode": "overlay",
             "size": 10,
             "solidity": 0.2
            },
            "type": "scatter"
           }
          ],
          "scatter3d": [
           {
            "line": {
             "colorbar": {
              "outlinewidth": 0,
              "ticks": ""
             }
            },
            "marker": {
             "colorbar": {
              "outlinewidth": 0,
              "ticks": ""
             }
            },
            "type": "scatter3d"
           }
          ],
          "scattercarpet": [
           {
            "marker": {
             "colorbar": {
              "outlinewidth": 0,
              "ticks": ""
             }
            },
            "type": "scattercarpet"
           }
          ],
          "scattergeo": [
           {
            "marker": {
             "colorbar": {
              "outlinewidth": 0,
              "ticks": ""
             }
            },
            "type": "scattergeo"
           }
          ],
          "scattergl": [
           {
            "marker": {
             "colorbar": {
              "outlinewidth": 0,
              "ticks": ""
             }
            },
            "type": "scattergl"
           }
          ],
          "scattermapbox": [
           {
            "marker": {
             "colorbar": {
              "outlinewidth": 0,
              "ticks": ""
             }
            },
            "type": "scattermapbox"
           }
          ],
          "scatterpolar": [
           {
            "marker": {
             "colorbar": {
              "outlinewidth": 0,
              "ticks": ""
             }
            },
            "type": "scatterpolar"
           }
          ],
          "scatterpolargl": [
           {
            "marker": {
             "colorbar": {
              "outlinewidth": 0,
              "ticks": ""
             }
            },
            "type": "scatterpolargl"
           }
          ],
          "scatterternary": [
           {
            "marker": {
             "colorbar": {
              "outlinewidth": 0,
              "ticks": ""
             }
            },
            "type": "scatterternary"
           }
          ],
          "surface": [
           {
            "colorbar": {
             "outlinewidth": 0,
             "ticks": ""
            },
            "colorscale": [
             [
              0,
              "#0d0887"
             ],
             [
              0.1111111111111111,
              "#46039f"
             ],
             [
              0.2222222222222222,
              "#7201a8"
             ],
             [
              0.3333333333333333,
              "#9c179e"
             ],
             [
              0.4444444444444444,
              "#bd3786"
             ],
             [
              0.5555555555555556,
              "#d8576b"
             ],
             [
              0.6666666666666666,
              "#ed7953"
             ],
             [
              0.7777777777777778,
              "#fb9f3a"
             ],
             [
              0.8888888888888888,
              "#fdca26"
             ],
             [
              1,
              "#f0f921"
             ]
            ],
            "type": "surface"
           }
          ],
          "table": [
           {
            "cells": {
             "fill": {
              "color": "#EBF0F8"
             },
             "line": {
              "color": "white"
             }
            },
            "header": {
             "fill": {
              "color": "#C8D4E3"
             },
             "line": {
              "color": "white"
             }
            },
            "type": "table"
           }
          ]
         },
         "layout": {
          "annotationdefaults": {
           "arrowcolor": "#2a3f5f",
           "arrowhead": 0,
           "arrowwidth": 1
          },
          "autotypenumbers": "strict",
          "coloraxis": {
           "colorbar": {
            "outlinewidth": 0,
            "ticks": ""
           }
          },
          "colorscale": {
           "diverging": [
            [
             0,
             "#8e0152"
            ],
            [
             0.1,
             "#c51b7d"
            ],
            [
             0.2,
             "#de77ae"
            ],
            [
             0.3,
             "#f1b6da"
            ],
            [
             0.4,
             "#fde0ef"
            ],
            [
             0.5,
             "#f7f7f7"
            ],
            [
             0.6,
             "#e6f5d0"
            ],
            [
             0.7,
             "#b8e186"
            ],
            [
             0.8,
             "#7fbc41"
            ],
            [
             0.9,
             "#4d9221"
            ],
            [
             1,
             "#276419"
            ]
           ],
           "sequential": [
            [
             0,
             "#0d0887"
            ],
            [
             0.1111111111111111,
             "#46039f"
            ],
            [
             0.2222222222222222,
             "#7201a8"
            ],
            [
             0.3333333333333333,
             "#9c179e"
            ],
            [
             0.4444444444444444,
             "#bd3786"
            ],
            [
             0.5555555555555556,
             "#d8576b"
            ],
            [
             0.6666666666666666,
             "#ed7953"
            ],
            [
             0.7777777777777778,
             "#fb9f3a"
            ],
            [
             0.8888888888888888,
             "#fdca26"
            ],
            [
             1,
             "#f0f921"
            ]
           ],
           "sequentialminus": [
            [
             0,
             "#0d0887"
            ],
            [
             0.1111111111111111,
             "#46039f"
            ],
            [
             0.2222222222222222,
             "#7201a8"
            ],
            [
             0.3333333333333333,
             "#9c179e"
            ],
            [
             0.4444444444444444,
             "#bd3786"
            ],
            [
             0.5555555555555556,
             "#d8576b"
            ],
            [
             0.6666666666666666,
             "#ed7953"
            ],
            [
             0.7777777777777778,
             "#fb9f3a"
            ],
            [
             0.8888888888888888,
             "#fdca26"
            ],
            [
             1,
             "#f0f921"
            ]
           ]
          },
          "colorway": [
           "#636efa",
           "#EF553B",
           "#00cc96",
           "#ab63fa",
           "#FFA15A",
           "#19d3f3",
           "#FF6692",
           "#B6E880",
           "#FF97FF",
           "#FECB52"
          ],
          "font": {
           "color": "#2a3f5f"
          },
          "geo": {
           "bgcolor": "white",
           "lakecolor": "white",
           "landcolor": "#E5ECF6",
           "showlakes": true,
           "showland": true,
           "subunitcolor": "white"
          },
          "hoverlabel": {
           "align": "left"
          },
          "hovermode": "closest",
          "mapbox": {
           "style": "light"
          },
          "paper_bgcolor": "white",
          "plot_bgcolor": "#E5ECF6",
          "polar": {
           "angularaxis": {
            "gridcolor": "white",
            "linecolor": "white",
            "ticks": ""
           },
           "bgcolor": "#E5ECF6",
           "radialaxis": {
            "gridcolor": "white",
            "linecolor": "white",
            "ticks": ""
           }
          },
          "scene": {
           "xaxis": {
            "backgroundcolor": "#E5ECF6",
            "gridcolor": "white",
            "gridwidth": 2,
            "linecolor": "white",
            "showbackground": true,
            "ticks": "",
            "zerolinecolor": "white"
           },
           "yaxis": {
            "backgroundcolor": "#E5ECF6",
            "gridcolor": "white",
            "gridwidth": 2,
            "linecolor": "white",
            "showbackground": true,
            "ticks": "",
            "zerolinecolor": "white"
           },
           "zaxis": {
            "backgroundcolor": "#E5ECF6",
            "gridcolor": "white",
            "gridwidth": 2,
            "linecolor": "white",
            "showbackground": true,
            "ticks": "",
            "zerolinecolor": "white"
           }
          },
          "shapedefaults": {
           "line": {
            "color": "#2a3f5f"
           }
          },
          "ternary": {
           "aaxis": {
            "gridcolor": "white",
            "linecolor": "white",
            "ticks": ""
           },
           "baxis": {
            "gridcolor": "white",
            "linecolor": "white",
            "ticks": ""
           },
           "bgcolor": "#E5ECF6",
           "caxis": {
            "gridcolor": "white",
            "linecolor": "white",
            "ticks": ""
           }
          },
          "title": {
           "x": 0.05
          },
          "xaxis": {
           "automargin": true,
           "gridcolor": "white",
           "linecolor": "white",
           "ticks": "",
           "title": {
            "standoff": 15
           },
           "zerolinecolor": "white",
           "zerolinewidth": 2
          },
          "yaxis": {
           "automargin": true,
           "gridcolor": "white",
           "linecolor": "white",
           "ticks": "",
           "title": {
            "standoff": 15
           },
           "zerolinecolor": "white",
           "zerolinewidth": 2
          }
         }
        },
        "title": {
         "text": "Count of Services Complying with Target Score Over Time"
        },
        "xaxis": {
         "autorange": true,
         "range": [
          0,
          11
         ],
         "title": {
          "text": "Week"
         },
         "type": "category"
        },
        "yaxis": {
         "autorange": true,
         "range": [
          0,
          8.421052631578947
         ],
         "title": {
          "text": "Count of Services"
         },
         "type": "linear"
        }
       }
      },
      "image/png": "[encoded data removed]",
      "text/html": [
       "<div>                            <div id=\"5959da78-dc8f-4131-983c-2f6c25395393\" class=\"plotly-graph-div\" style=\"height:525px; width:100%;\"></div>            <script type=\"text/javascript\">                require([\"plotly\"], function(Plotly) {                    window.PLOTLYENV=window.PLOTLYENV || {};                                    if (document.getElementById(\"5959da78-dc8f-4131-983c-2f6c25395393\")) {                    Plotly.newPlot(                        \"5959da78-dc8f-4131-983c-2f6c25395393\",                        [{\"fill\":\"tozeroy\",\"fillcolor\":\"rgba(144, 238, 144, 0.7)\",\"mode\":\"none\",\"name\":\"Compliant\",\"x\":[\"w31\",\"w32\",\"w33\",\"w34\",\"w35\",\"w36\",\"w37\",\"w38\",\"w39\",\"w40\",\"w41\",\"w42\"],\"y\":[7,7,7,8,8,8,8,8,8,8,7,7],\"type\":\"scatter\"},{\"fill\":\"tonexty\",\"fillcolor\":\"rgba(255, 182, 193, 0.7)\",\"mode\":\"none\",\"name\":\"Non-Compliant\",\"x\":[\"w31\",\"w32\",\"w33\",\"w34\",\"w35\",\"w36\",\"w37\",\"w38\",\"w39\",\"w40\",\"w41\",\"w42\"],\"y\":[8,8,8,8,8,8,8,8,8,8,8,8],\"type\":\"scatter\"}],                        {\"template\":{\"data\":{\"histogram2dcontour\":[{\"type\":\"histogram2dcontour\",\"colorbar\":{\"outlinewidth\":0,\"ticks\":\"\"},\"colorscale\":[[0.0,\"#0d0887\"],[0.1111111111111111,\"#46039f\"],[0.2222222222222222,\"#7201a8\"],[0.3333333333333333,\"#9c179e\"],[0.4444444444444444,\"#bd3786\"],[0.5555555555555556,\"#d8576b\"],[0.6666666666666666,\"#ed7953\"],[0.7777777777777778,\"#fb9f3a\"],[0.8888888888888888,\"#fdca26\"],[1.0,\"#f0f921\"]]}],\"choropleth\":[{\"type\":\"choropleth\",\"colorbar\":{\"outlinewidth\":0,\"ticks\":\"\"}}],\"histogram2d\":[{\"type\":\"histogram2d\",\"colorbar\":{\"outlinewidth\":0,\"ticks\":\"\"},\"colorscale\":[[0.0,\"#0d0887\"],[0.1111111111111111,\"#46039f\"],[0.2222222222222222,\"#7201a8\"],[0.3333333333333333,\"#9c179e\"],[0.4444444444444444,\"#bd3786\"],[0.5555555555555556,\"#d8576b\"],[0.6666666666666666,\"#ed7953\"],[0.7777777777777778,\"#fb9f3a\"],[0.8888888888888888,\"#fdca26\"],[1.0,\"#f0f921\"]]}],\"heatmap\":[{\"type\":\"heatmap\",\"colorbar\":{\"outlinewidth\":0,\"ticks\":\"\"},\"colorscale\":[[0.0,\"#0d0887\"],[0.1111111111111111,\"#46039f\"],[0.2222222222222222,\"#7201a8\"],[0.3333333333333333,\"#9c179e\"],[0.4444444444444444,\"#bd3786\"],[0.5555555555555556,\"#d8576b\"],[0.6666666666666666,\"#ed7953\"],[0.7777777777777778,\"#fb9f3a\"],[0.8888888888888888,\"#fdca26\"],[1.0,\"#f0f921\"]]}],\"heatmapgl\":[{\"type\":\"heatmapgl\",\"colorbar\":{\"outlinewidth\":0,\"ticks\":\"\"},\"colorscale\":[[0.0,\"#0d0887\"],[0.1111111111111111,\"#46039f\"],[0.2222222222222222,\"#7201a8\"],[0.3333333333333333,\"#9c179e\"],[0.4444444444444444,\"#bd3786\"],[0.5555555555555556,\"#d8576b\"],[0.6666666666666666,\"#ed7953\"],[0.7777777777777778,\"#fb9f3a\"],[0.8888888888888888,\"#fdca26\"],[1.0,\"#f0f921\"]]}],\"contourcarpet\":[{\"type\":\"contourcarpet\",\"colorbar\":{\"outlinewidth\":0,\"ticks\":\"\"}}],\"contour\":[{\"type\":\"contour\",\"colorbar\":{\"outlinewidth\":0,\"ticks\":\"\"},\"colorscale\":[[0.0,\"#0d0887\"],[0.1111111111111111,\"#46039f\"],[0.2222222222222222,\"#7201a8\"],[0.3333333333333333,\"#9c179e\"],[0.4444444444444444,\"#bd3786\"],[0.5555555555555556,\"#d8576b\"],[0.6666666666666666,\"#ed7953\"],[0.7777777777777778,\"#fb9f3a\"],[0.8888888888888888,\"#fdca26\"],[1.0,\"#f0f921\"]]}],\"surface\":[{\"type\":\"surface\",\"colorbar\":{\"outlinewidth\":0,\"ticks\":\"\"},\"colorscale\":[[0.0,\"#0d0887\"],[0.1111111111111111,\"#46039f\"],[0.2222222222222222,\"#7201a8\"],[0.3333333333333333,\"#9c179e\"],[0.4444444444444444,\"#bd3786\"],[0.5555555555555556,\"#d8576b\"],[0.6666666666666666,\"#ed7953\"],[0.7777777777777778,\"#fb9f3a\"],[0.8888888888888888,\"#fdca26\"],[1.0,\"#f0f921\"]]}],\"mesh3d\":[{\"type\":\"mesh3d\",\"colorbar\":{\"outlinewidth\":0,\"ticks\":\"\"}}],\"scatter\":[{\"fillpattern\":{\"fillmode\":\"overlay\",\"size\":10,\"solidity\":0.2},\"type\":\"scatter\"}],\"parcoords\":[{\"type\":\"parcoords\",\"line\":{\"colorbar\":{\"outlinewidth\":0,\"ticks\":\"\"}}}],\"scatterpolargl\":[{\"type\":\"scatterpolargl\",\"marker\":{\"colorbar\":{\"outlinewidth\":0,\"ticks\":\"\"}}}],\"bar\":[{\"error_x\":{\"color\":\"#2a3f5f\"},\"error_y\":{\"color\":\"#2a3f5f\"},\"marker\":{\"line\":{\"color\":\"#E5ECF6\",\"width\":0.5},\"pattern\":{\"fillmode\":\"overlay\",\"size\":10,\"solidity\":0.2}},\"type\":\"bar\"}],\"scattergeo\":[{\"type\":\"scattergeo\",\"marker\":{\"colorbar\":{\"outlinewidth\":0,\"ticks\":\"\"}}}],\"scatterpolar\":[{\"type\":\"scatterpolar\",\"marker\":{\"colorbar\":{\"outlinewidth\":0,\"ticks\":\"\"}}}],\"histogram\":[{\"marker\":{\"pattern\":{\"fillmode\":\"overlay\",\"size\":10,\"solidity\":0.2}},\"type\":\"histogram\"}],\"scattergl\":[{\"type\":\"scattergl\",\"marker\":{\"colorbar\":{\"outlinewidth\":0,\"ticks\":\"\"}}}],\"scatter3d\":[{\"type\":\"scatter3d\",\"line\":{\"colorbar\":{\"outlinewidth\":0,\"ticks\":\"\"}},\"marker\":{\"colorbar\":{\"outlinewidth\":0,\"ticks\":\"\"}}}],\"scattermapbox\":[{\"type\":\"scattermapbox\",\"marker\":{\"colorbar\":{\"outlinewidth\":0,\"ticks\":\"\"}}}],\"scatterternary\":[{\"type\":\"scatterternary\",\"marker\":{\"colorbar\":{\"outlinewidth\":0,\"ticks\":\"\"}}}],\"scattercarpet\":[{\"type\":\"scattercarpet\",\"marker\":{\"colorbar\":{\"outlinewidth\":0,\"ticks\":\"\"}}}],\"carpet\":[{\"aaxis\":{\"endlinecolor\":\"#2a3f5f\",\"gridcolor\":\"white\",\"linecolor\":\"white\",\"minorgridcolor\":\"white\",\"startlinecolor\":\"#2a3f5f\"},\"baxis\":{\"endlinecolor\":\"#2a3f5f\",\"gridcolor\":\"white\",\"linecolor\":\"white\",\"minorgridcolor\":\"white\",\"startlinecolor\":\"#2a3f5f\"},\"type\":\"carpet\"}],\"table\":[{\"cells\":{\"fill\":{\"color\":\"#EBF0F8\"},\"line\":{\"color\":\"white\"}},\"header\":{\"fill\":{\"color\":\"#C8D4E3\"},\"line\":{\"color\":\"white\"}},\"type\":\"table\"}],\"barpolar\":[{\"marker\":{\"line\":{\"color\":\"#E5ECF6\",\"width\":0.5},\"pattern\":{\"fillmode\":\"overlay\",\"size\":10,\"solidity\":0.2}},\"type\":\"barpolar\"}],\"pie\":[{\"automargin\":true,\"type\":\"pie\"}]},\"layout\":{\"autotypenumbers\":\"strict\",\"colorway\":[\"#636efa\",\"#EF553B\",\"#00cc96\",\"#ab63fa\",\"#FFA15A\",\"#19d3f3\",\"#FF6692\",\"#B6E880\",\"#FF97FF\",\"#FECB52\"],\"font\":{\"color\":\"#2a3f5f\"},\"hovermode\":\"closest\",\"hoverlabel\":{\"align\":\"left\"},\"paper_bgcolor\":\"white\",\"plot_bgcolor\":\"#E5ECF6\",\"polar\":{\"bgcolor\":\"#E5ECF6\",\"angularaxis\":{\"gridcolor\":\"white\",\"linecolor\":\"white\",\"ticks\":\"\"},\"radialaxis\":{\"gridcolor\":\"white\",\"linecolor\":\"white\",\"ticks\":\"\"}},\"ternary\":{\"bgcolor\":\"#E5ECF6\",\"aaxis\":{\"gridcolor\":\"white\",\"linecolor\":\"white\",\"ticks\":\"\"},\"baxis\":{\"gridcolor\":\"white\",\"linecolor\":\"white\",\"ticks\":\"\"},\"caxis\":{\"gridcolor\":\"white\",\"linecolor\":\"white\",\"ticks\":\"\"}},\"coloraxis\":{\"colorbar\":{\"outlinewidth\":0,\"ticks\":\"\"}},\"colorscale\":{\"sequential\":[[0.0,\"#0d0887\"],[0.1111111111111111,\"#46039f\"],[0.2222222222222222,\"#7201a8\"],[0.3333333333333333,\"#9c179e\"],[0.4444444444444444,\"#bd3786\"],[0.5555555555555556,\"#d8576b\"],[0.6666666666666666,\"#ed7953\"],[0.7777777777777778,\"#fb9f3a\"],[0.8888888888888888,\"#fdca26\"],[1.0,\"#f0f921\"]],\"sequentialminus\":[[0.0,\"#0d0887\"],[0.1111111111111111,\"#46039f\"],[0.2222222222222222,\"#7201a8\"],[0.3333333333333333,\"#9c179e\"],[0.4444444444444444,\"#bd3786\"],[0.5555555555555556,\"#d8576b\"],[0.6666666666666666,\"#ed7953\"],[0.7777777777777778,\"#fb9f3a\"],[0.8888888888888888,\"#fdca26\"],[1.0,\"#f0f921\"]],\"diverging\":[[0,\"#8e0152\"],[0.1,\"#c51b7d\"],[0.2,\"#de77ae\"],[0.3,\"#f1b6da\"],[0.4,\"#fde0ef\"],[0.5,\"#f7f7f7\"],[0.6,\"#e6f5d0\"],[0.7,\"#b8e186\"],[0.8,\"#7fbc41\"],[0.9,\"#4d9221\"],[1,\"#276419\"]]},\"xaxis\":{\"gridcolor\":\"white\",\"linecolor\":\"white\",\"ticks\":\"\",\"title\":{\"standoff\":15},\"zerolinecolor\":\"white\",\"automargin\":true,\"zerolinewidth\":2},\"yaxis\":{\"gridcolor\":\"white\",\"linecolor\":\"white\",\"ticks\":\"\",\"title\":{\"standoff\":15},\"zerolinecolor\":\"white\",\"automargin\":true,\"zerolinewidth\":2},\"scene\":{\"xaxis\":{\"backgroundcolor\":\"#E5ECF6\",\"gridcolor\":\"white\",\"linecolor\":\"white\",\"showbackground\":true,\"ticks\":\"\",\"zerolinecolor\":\"white\",\"gridwidth\":2},\"yaxis\":{\"backgroundcolor\":\"#E5ECF6\",\"gridcolor\":\"white\",\"linecolor\":\"white\",\"showbackground\":true,\"ticks\":\"\",\"zerolinecolor\":\"white\",\"gridwidth\":2},\"zaxis\":{\"backgroundcolor\":\"#E5ECF6\",\"gridcolor\":\"white\",\"linecolor\":\"white\",\"showbackground\":true,\"ticks\":\"\",\"zerolinecolor\":\"white\",\"gridwidth\":2}},\"shapedefaults\":{\"line\":{\"color\":\"#2a3f5f\"}},\"annotationdefaults\":{\"arrowcolor\":\"#2a3f5f\",\"arrowhead\":0,\"arrowwidth\":1},\"geo\":{\"bgcolor\":\"white\",\"landcolor\":\"#E5ECF6\",\"subunitcolor\":\"white\",\"showland\":true,\"showlakes\":true,\"lakecolor\":\"white\"},\"title\":{\"x\":0.05},\"mapbox\":{\"style\":\"light\"}}},\"title\":{\"text\":\"Count of Services Complying with Target Score Over Time\"},\"xaxis\":{\"title\":{\"text\":\"Week\"}},\"yaxis\":{\"title\":{\"text\":\"Count of Services\"}}},                        {\"responsive\": true}                    ).then(function(){\n",
       "                            \n",
       "var gd = document.getElementById('5959da78-dc8f-4131-983c-2f6c25395393');\n",
       "var x = new MutationObserver(function (mutations, observer) {{\n",
       "        var display = window.getComputedStyle(gd).display;\n",
       "        if (!display || display === 'none') {{\n",
       "            console.log([gd, 'removed!']);\n",
       "            Plotly.purge(gd);\n",
       "            observer.disconnect();\n",
       "        }}\n",
       "}});\n",
       "\n",
       "// Listen for the removal of the full notebook cells\n",
       "var notebookContainer = gd.closest('#notebook-container');\n",
       "if (notebookContainer) {{\n",
       "    x.observe(notebookContainer, {childList: true});\n",
       "}}\n",
       "\n",
       "// Listen for the clearing of the current output cell\n",
       "var outputEl = gd.closest('.output');\n",
       "if (outputEl) {{\n",
       "    x.observe(outputEl, {childList: true});\n",
       "}}\n",
       "\n",
       "                        })                };                });            </script>        </div>"
      ]
     },
     "metadata": {},
     "output_type": "display_data"
    }
   ],
   "source": [
    "# Count the number of services that comply and don't comply with the target score for each week\n",
    "compliant_count = (df >= 99.9).sum(axis=0)\n",
    "non_compliant_count = (df < 99.9).sum(axis=0)\n",
    "\n",
    "# Create a DataFrame for plotting\n",
    "df_count = pd.DataFrame({\n",
    "    'Week': weeks,\n",
    "    'Compliant': compliant_count.values,\n",
    "    'Non_Compliant': non_compliant_count.values\n",
    "})\n",
    "\n",
    "# Calculate the stacked values\n",
    "df_count['Total'] = df_count['Compliant'] + df_count['Non_Compliant']\n",
    "\n",
    "# Create the area chart using Plotly Express\n",
    "fig = go.Figure()\n",
    "\n",
    "# Add the compliant area (in pastel green, translucent)\n",
    "fig.add_trace(go.Scatter(\n",
    "    x=df_count['Week'], y=df_count['Compliant'],\n",
    "    fill='tozeroy',\n",
    "    mode='none',\n",
    "    name='Compliant',\n",
    "    fillcolor='rgba(144, 238, 144, 0.7)'\n",
    "))\n",
    "\n",
    "# Add the non-compliant area (in pastel red, translucent)\n",
    "fig.add_trace(go.Scatter(\n",
    "    x=df_count['Week'], y=df_count['Total'],\n",
    "    fill='tonexty',\n",
    "    mode='none',\n",
    "    name='Non-Compliant',\n",
    "    fillcolor='rgba(255, 182, 193, 0.7)'\n",
    "))\n",
    "\n",
    "# Add axis labels and title\n",
    "fig.update_layout(\n",
    "    title='Count of Services Complying with Target Score Over Time',\n",
    "    xaxis_title='Week',\n",
    "    yaxis_title='Count of Services'\n",
    ")\n",
    "\n",
    "# Show the figure\n",
    "fig.show()"
   ]
  },
  {
   "cell_type": "markdown",
   "id": "508bd70a-8b23-4ca2-ab7a-34127c060af6",
   "metadata": {},
   "source": [
    "## Heatmap"
   ]
  },
  {
   "cell_type": "code",
   "execution_count": 90,
   "id": "0daa2747-d8f7-4c4a-a46a-74572719853b",
   "metadata": {},
   "outputs": [
    {
     "data": {
      "application/vnd.plotly.v1+json": {
       "config": {
        "plotlyServerURL": "https://plot.ly"
       },
       "data": [
        {
         "colorscale": [
          [
           0,
           "rgb(128,30,30)"
          ],
          [
           0.99,
           "rgb(128,30,30)"
          ],
          [
           0.999,
           "rgb(255,100,0)"
          ],
          [
           0.999001,
           "rgb(255,255,50)"
          ],
          [
           1,
           "rgb(0,128,50)"
          ]
         ],
         "hoverinfo": "text",
         "showscale": false,
         "type": "heatmap",
         "x": [
          "w31",
          "w32",
          "w33",
          "w34",
          "w35",
          "w36",
          "w37",
          "w38",
          "w39",
          "w40",
          "w41",
          "w42"
         ],
         "y": [
          "Service_A",
          "Service_B",
          "Service_C",
          "Service_D",
          "Service_E",
          "Service_F",
          "Service_G",
          "Service_H"
         ],
         "z": [
          [
           99.63,
           99.35,
           99.88,
           99.95,
           99.95,
           99.95,
           99.95,
           99.95,
           99.95,
           99.95,
           99.95,
           99.95
          ],
          [
           99.95,
           99.95,
           99.95,
           99.95,
           99.95,
           99.95,
           99.95,
           99.95,
           99.95,
           99.9,
           99.88,
           99.85
          ],
          [
           99.94136265094211,
           99.96706075061812,
           99.94791688292574,
           99.95712734082056,
           99.93916586893387,
           99.96157705969347,
           99.93406417102207,
           99.94444177050893,
           99.94956057805697,
           99.94903675867302,
           99.964468533286,
           99.94565380065885
          ],
          [
           99.93811262007343,
           99.95255185117085,
           99.94627972034282,
           99.96855970719592,
           99.94657662015373,
           99.94030633091535,
           99.93427310234145,
           99.95472970371775,
           99.93782118590151,
           99.96177888158317,
           99.93626658772031,
           99.93996146099828
          ],
          [
           99.93344553641586,
           99.95282887511023,
           99.93219255112749,
           99.94458780060823,
           99.95260185316249,
           99.93469278820007,
           99.93376444438083,
           99.94206282557262,
           99.96787187290789,
           99.9671172993332,
           99.93302827656406,
           99.94194656615943
          ],
          [
           99.9371970329056,
           99.9638172989083,
           99.94093534861368,
           99.93867157849068,
           99.95906095420314,
           99.93842360727263,
           99.9648324201419,
           99.9616709539199,
           99.96533280304128,
           99.9497852351679,
           99.9440658319058,
           99.93161974578514
          ],
          [
           99.96084126797133,
           99.9335455328532,
           99.96576523315328,
           99.96057779499604,
           99.93004434775679,
           99.96786138309872,
           99.96257944695566,
           99.94872260979713,
           99.93562642224391,
           99.96501900540665,
           99.94958684862945,
           99.95524273784928
          ],
          [
           99.94491317114226,
           99.96853249040656,
           99.94292667921682,
           99.93432546117454,
           99.96506336369407,
           99.93067016482537,
           99.93260488810841,
           99.96299320774233,
           99.93707834906233,
           99.96523176528325,
           99.93525972320488,
           99.94838699456147
          ]
         ],
         "zmax": 100,
         "zmin": 0
        }
       ],
       "layout": {
        "annotations": [
         {
          "font": {
           "size": 12
          },
          "showarrow": false,
          "text": "99.63",
          "x": "w31",
          "xref": "x",
          "y": "Service_A",
          "yref": "y"
         },
         {
          "font": {
           "size": 12
          },
          "showarrow": false,
          "text": "99.35",
          "x": "w32",
          "xref": "x",
          "y": "Service_A",
          "yref": "y"
         },
         {
          "font": {
           "size": 12
          },
          "showarrow": false,
          "text": "99.88",
          "x": "w33",
          "xref": "x",
          "y": "Service_A",
          "yref": "y"
         },
         {
          "font": {
           "size": 12
          },
          "showarrow": false,
          "text": "99.95",
          "x": "w34",
          "xref": "x",
          "y": "Service_A",
          "yref": "y"
         },
         {
          "font": {
           "size": 12
          },
          "showarrow": false,
          "text": "99.95",
          "x": "w35",
          "xref": "x",
          "y": "Service_A",
          "yref": "y"
         },
         {
          "font": {
           "size": 12
          },
          "showarrow": false,
          "text": "99.95",
          "x": "w36",
          "xref": "x",
          "y": "Service_A",
          "yref": "y"
         },
         {
          "font": {
           "size": 12
          },
          "showarrow": false,
          "text": "99.95",
          "x": "w37",
          "xref": "x",
          "y": "Service_A",
          "yref": "y"
         },
         {
          "font": {
           "size": 12
          },
          "showarrow": false,
          "text": "99.95",
          "x": "w38",
          "xref": "x",
          "y": "Service_A",
          "yref": "y"
         },
         {
          "font": {
           "size": 12
          },
          "showarrow": false,
          "text": "99.95",
          "x": "w39",
          "xref": "x",
          "y": "Service_A",
          "yref": "y"
         },
         {
          "font": {
           "size": 12
          },
          "showarrow": false,
          "text": "99.95",
          "x": "w40",
          "xref": "x",
          "y": "Service_A",
          "yref": "y"
         },
         {
          "font": {
           "size": 12
          },
          "showarrow": false,
          "text": "99.95",
          "x": "w41",
          "xref": "x",
          "y": "Service_A",
          "yref": "y"
         },
         {
          "font": {
           "size": 12
          },
          "showarrow": false,
          "text": "99.95",
          "x": "w42",
          "xref": "x",
          "y": "Service_A",
          "yref": "y"
         },
         {
          "font": {
           "size": 12
          },
          "showarrow": false,
          "text": "99.95",
          "x": "w31",
          "xref": "x",
          "y": "Service_B",
          "yref": "y"
         },
         {
          "font": {
           "size": 12
          },
          "showarrow": false,
          "text": "99.95",
          "x": "w32",
          "xref": "x",
          "y": "Service_B",
          "yref": "y"
         },
         {
          "font": {
           "size": 12
          },
          "showarrow": false,
          "text": "99.95",
          "x": "w33",
          "xref": "x",
          "y": "Service_B",
          "yref": "y"
         },
         {
          "font": {
           "size": 12
          },
          "showarrow": false,
          "text": "99.95",
          "x": "w34",
          "xref": "x",
          "y": "Service_B",
          "yref": "y"
         },
         {
          "font": {
           "size": 12
          },
          "showarrow": false,
          "text": "99.95",
          "x": "w35",
          "xref": "x",
          "y": "Service_B",
          "yref": "y"
         },
         {
          "font": {
           "size": 12
          },
          "showarrow": false,
          "text": "99.95",
          "x": "w36",
          "xref": "x",
          "y": "Service_B",
          "yref": "y"
         },
         {
          "font": {
           "size": 12
          },
          "showarrow": false,
          "text": "99.95",
          "x": "w37",
          "xref": "x",
          "y": "Service_B",
          "yref": "y"
         },
         {
          "font": {
           "size": 12
          },
          "showarrow": false,
          "text": "99.95",
          "x": "w38",
          "xref": "x",
          "y": "Service_B",
          "yref": "y"
         },
         {
          "font": {
           "size": 12
          },
          "showarrow": false,
          "text": "99.95",
          "x": "w39",
          "xref": "x",
          "y": "Service_B",
          "yref": "y"
         },
         {
          "font": {
           "size": 12
          },
          "showarrow": false,
          "text": "99.90",
          "x": "w40",
          "xref": "x",
          "y": "Service_B",
          "yref": "y"
         },
         {
          "font": {
           "size": 12
          },
          "showarrow": false,
          "text": "99.88",
          "x": "w41",
          "xref": "x",
          "y": "Service_B",
          "yref": "y"
         },
         {
          "font": {
           "size": 12
          },
          "showarrow": false,
          "text": "99.85",
          "x": "w42",
          "xref": "x",
          "y": "Service_B",
          "yref": "y"
         },
         {
          "font": {
           "size": 12
          },
          "showarrow": false,
          "text": "99.94",
          "x": "w31",
          "xref": "x",
          "y": "Service_C",
          "yref": "y"
         },
         {
          "font": {
           "size": 12
          },
          "showarrow": false,
          "text": "99.97",
          "x": "w32",
          "xref": "x",
          "y": "Service_C",
          "yref": "y"
         },
         {
          "font": {
           "size": 12
          },
          "showarrow": false,
          "text": "99.95",
          "x": "w33",
          "xref": "x",
          "y": "Service_C",
          "yref": "y"
         },
         {
          "font": {
           "size": 12
          },
          "showarrow": false,
          "text": "99.96",
          "x": "w34",
          "xref": "x",
          "y": "Service_C",
          "yref": "y"
         },
         {
          "font": {
           "size": 12
          },
          "showarrow": false,
          "text": "99.94",
          "x": "w35",
          "xref": "x",
          "y": "Service_C",
          "yref": "y"
         },
         {
          "font": {
           "size": 12
          },
          "showarrow": false,
          "text": "99.96",
          "x": "w36",
          "xref": "x",
          "y": "Service_C",
          "yref": "y"
         },
         {
          "font": {
           "size": 12
          },
          "showarrow": false,
          "text": "99.93",
          "x": "w37",
          "xref": "x",
          "y": "Service_C",
          "yref": "y"
         },
         {
          "font": {
           "size": 12
          },
          "showarrow": false,
          "text": "99.94",
          "x": "w38",
          "xref": "x",
          "y": "Service_C",
          "yref": "y"
         },
         {
          "font": {
           "size": 12
          },
          "showarrow": false,
          "text": "99.95",
          "x": "w39",
          "xref": "x",
          "y": "Service_C",
          "yref": "y"
         },
         {
          "font": {
           "size": 12
          },
          "showarrow": false,
          "text": "99.95",
          "x": "w40",
          "xref": "x",
          "y": "Service_C",
          "yref": "y"
         },
         {
          "font": {
           "size": 12
          },
          "showarrow": false,
          "text": "99.96",
          "x": "w41",
          "xref": "x",
          "y": "Service_C",
          "yref": "y"
         },
         {
          "font": {
           "size": 12
          },
          "showarrow": false,
          "text": "99.95",
          "x": "w42",
          "xref": "x",
          "y": "Service_C",
          "yref": "y"
         },
         {
          "font": {
           "size": 12
          },
          "showarrow": false,
          "text": "99.94",
          "x": "w31",
          "xref": "x",
          "y": "Service_D",
          "yref": "y"
         },
         {
          "font": {
           "size": 12
          },
          "showarrow": false,
          "text": "99.95",
          "x": "w32",
          "xref": "x",
          "y": "Service_D",
          "yref": "y"
         },
         {
          "font": {
           "size": 12
          },
          "showarrow": false,
          "text": "99.95",
          "x": "w33",
          "xref": "x",
          "y": "Service_D",
          "yref": "y"
         },
         {
          "font": {
           "size": 12
          },
          "showarrow": false,
          "text": "99.97",
          "x": "w34",
          "xref": "x",
          "y": "Service_D",
          "yref": "y"
         },
         {
          "font": {
           "size": 12
          },
          "showarrow": false,
          "text": "99.95",
          "x": "w35",
          "xref": "x",
          "y": "Service_D",
          "yref": "y"
         },
         {
          "font": {
           "size": 12
          },
          "showarrow": false,
          "text": "99.94",
          "x": "w36",
          "xref": "x",
          "y": "Service_D",
          "yref": "y"
         },
         {
          "font": {
           "size": 12
          },
          "showarrow": false,
          "text": "99.93",
          "x": "w37",
          "xref": "x",
          "y": "Service_D",
          "yref": "y"
         },
         {
          "font": {
           "size": 12
          },
          "showarrow": false,
          "text": "99.95",
          "x": "w38",
          "xref": "x",
          "y": "Service_D",
          "yref": "y"
         },
         {
          "font": {
           "size": 12
          },
          "showarrow": false,
          "text": "99.94",
          "x": "w39",
          "xref": "x",
          "y": "Service_D",
          "yref": "y"
         },
         {
          "font": {
           "size": 12
          },
          "showarrow": false,
          "text": "99.96",
          "x": "w40",
          "xref": "x",
          "y": "Service_D",
          "yref": "y"
         },
         {
          "font": {
           "size": 12
          },
          "showarrow": false,
          "text": "99.94",
          "x": "w41",
          "xref": "x",
          "y": "Service_D",
          "yref": "y"
         },
         {
          "font": {
           "size": 12
          },
          "showarrow": false,
          "text": "99.94",
          "x": "w42",
          "xref": "x",
          "y": "Service_D",
          "yref": "y"
         },
         {
          "font": {
           "size": 12
          },
          "showarrow": false,
          "text": "99.93",
          "x": "w31",
          "xref": "x",
          "y": "Service_E",
          "yref": "y"
         },
         {
          "font": {
           "size": 12
          },
          "showarrow": false,
          "text": "99.95",
          "x": "w32",
          "xref": "x",
          "y": "Service_E",
          "yref": "y"
         },
         {
          "font": {
           "size": 12
          },
          "showarrow": false,
          "text": "99.93",
          "x": "w33",
          "xref": "x",
          "y": "Service_E",
          "yref": "y"
         },
         {
          "font": {
           "size": 12
          },
          "showarrow": false,
          "text": "99.94",
          "x": "w34",
          "xref": "x",
          "y": "Service_E",
          "yref": "y"
         },
         {
          "font": {
           "size": 12
          },
          "showarrow": false,
          "text": "99.95",
          "x": "w35",
          "xref": "x",
          "y": "Service_E",
          "yref": "y"
         },
         {
          "font": {
           "size": 12
          },
          "showarrow": false,
          "text": "99.93",
          "x": "w36",
          "xref": "x",
          "y": "Service_E",
          "yref": "y"
         },
         {
          "font": {
           "size": 12
          },
          "showarrow": false,
          "text": "99.93",
          "x": "w37",
          "xref": "x",
          "y": "Service_E",
          "yref": "y"
         },
         {
          "font": {
           "size": 12
          },
          "showarrow": false,
          "text": "99.94",
          "x": "w38",
          "xref": "x",
          "y": "Service_E",
          "yref": "y"
         },
         {
          "font": {
           "size": 12
          },
          "showarrow": false,
          "text": "99.97",
          "x": "w39",
          "xref": "x",
          "y": "Service_E",
          "yref": "y"
         },
         {
          "font": {
           "size": 12
          },
          "showarrow": false,
          "text": "99.97",
          "x": "w40",
          "xref": "x",
          "y": "Service_E",
          "yref": "y"
         },
         {
          "font": {
           "size": 12
          },
          "showarrow": false,
          "text": "99.93",
          "x": "w41",
          "xref": "x",
          "y": "Service_E",
          "yref": "y"
         },
         {
          "font": {
           "size": 12
          },
          "showarrow": false,
          "text": "99.94",
          "x": "w42",
          "xref": "x",
          "y": "Service_E",
          "yref": "y"
         },
         {
          "font": {
           "size": 12
          },
          "showarrow": false,
          "text": "99.94",
          "x": "w31",
          "xref": "x",
          "y": "Service_F",
          "yref": "y"
         },
         {
          "font": {
           "size": 12
          },
          "showarrow": false,
          "text": "99.96",
          "x": "w32",
          "xref": "x",
          "y": "Service_F",
          "yref": "y"
         },
         {
          "font": {
           "size": 12
          },
          "showarrow": false,
          "text": "99.94",
          "x": "w33",
          "xref": "x",
          "y": "Service_F",
          "yref": "y"
         },
         {
          "font": {
           "size": 12
          },
          "showarrow": false,
          "text": "99.94",
          "x": "w34",
          "xref": "x",
          "y": "Service_F",
          "yref": "y"
         },
         {
          "font": {
           "size": 12
          },
          "showarrow": false,
          "text": "99.96",
          "x": "w35",
          "xref": "x",
          "y": "Service_F",
          "yref": "y"
         },
         {
          "font": {
           "size": 12
          },
          "showarrow": false,
          "text": "99.94",
          "x": "w36",
          "xref": "x",
          "y": "Service_F",
          "yref": "y"
         },
         {
          "font": {
           "size": 12
          },
          "showarrow": false,
          "text": "99.96",
          "x": "w37",
          "xref": "x",
          "y": "Service_F",
          "yref": "y"
         },
         {
          "font": {
           "size": 12
          },
          "showarrow": false,
          "text": "99.96",
          "x": "w38",
          "xref": "x",
          "y": "Service_F",
          "yref": "y"
         },
         {
          "font": {
           "size": 12
          },
          "showarrow": false,
          "text": "99.97",
          "x": "w39",
          "xref": "x",
          "y": "Service_F",
          "yref": "y"
         },
         {
          "font": {
           "size": 12
          },
          "showarrow": false,
          "text": "99.95",
          "x": "w40",
          "xref": "x",
          "y": "Service_F",
          "yref": "y"
         },
         {
          "font": {
           "size": 12
          },
          "showarrow": false,
          "text": "99.94",
          "x": "w41",
          "xref": "x",
          "y": "Service_F",
          "yref": "y"
         },
         {
          "font": {
           "size": 12
          },
          "showarrow": false,
          "text": "99.93",
          "x": "w42",
          "xref": "x",
          "y": "Service_F",
          "yref": "y"
         },
         {
          "font": {
           "size": 12
          },
          "showarrow": false,
          "text": "99.96",
          "x": "w31",
          "xref": "x",
          "y": "Service_G",
          "yref": "y"
         },
         {
          "font": {
           "size": 12
          },
          "showarrow": false,
          "text": "99.93",
          "x": "w32",
          "xref": "x",
          "y": "Service_G",
          "yref": "y"
         },
         {
          "font": {
           "size": 12
          },
          "showarrow": false,
          "text": "99.97",
          "x": "w33",
          "xref": "x",
          "y": "Service_G",
          "yref": "y"
         },
         {
          "font": {
           "size": 12
          },
          "showarrow": false,
          "text": "99.96",
          "x": "w34",
          "xref": "x",
          "y": "Service_G",
          "yref": "y"
         },
         {
          "font": {
           "size": 12
          },
          "showarrow": false,
          "text": "99.93",
          "x": "w35",
          "xref": "x",
          "y": "Service_G",
          "yref": "y"
         },
         {
          "font": {
           "size": 12
          },
          "showarrow": false,
          "text": "99.97",
          "x": "w36",
          "xref": "x",
          "y": "Service_G",
          "yref": "y"
         },
         {
          "font": {
           "size": 12
          },
          "showarrow": false,
          "text": "99.96",
          "x": "w37",
          "xref": "x",
          "y": "Service_G",
          "yref": "y"
         },
         {
          "font": {
           "size": 12
          },
          "showarrow": false,
          "text": "99.95",
          "x": "w38",
          "xref": "x",
          "y": "Service_G",
          "yref": "y"
         },
         {
          "font": {
           "size": 12
          },
          "showarrow": false,
          "text": "99.94",
          "x": "w39",
          "xref": "x",
          "y": "Service_G",
          "yref": "y"
         },
         {
          "font": {
           "size": 12
          },
          "showarrow": false,
          "text": "99.97",
          "x": "w40",
          "xref": "x",
          "y": "Service_G",
          "yref": "y"
         },
         {
          "font": {
           "size": 12
          },
          "showarrow": false,
          "text": "99.95",
          "x": "w41",
          "xref": "x",
          "y": "Service_G",
          "yref": "y"
         },
         {
          "font": {
           "size": 12
          },
          "showarrow": false,
          "text": "99.96",
          "x": "w42",
          "xref": "x",
          "y": "Service_G",
          "yref": "y"
         },
         {
          "font": {
           "size": 12
          },
          "showarrow": false,
          "text": "99.94",
          "x": "w31",
          "xref": "x",
          "y": "Service_H",
          "yref": "y"
         },
         {
          "font": {
           "size": 12
          },
          "showarrow": false,
          "text": "99.97",
          "x": "w32",
          "xref": "x",
          "y": "Service_H",
          "yref": "y"
         },
         {
          "font": {
           "size": 12
          },
          "showarrow": false,
          "text": "99.94",
          "x": "w33",
          "xref": "x",
          "y": "Service_H",
          "yref": "y"
         },
         {
          "font": {
           "size": 12
          },
          "showarrow": false,
          "text": "99.93",
          "x": "w34",
          "xref": "x",
          "y": "Service_H",
          "yref": "y"
         },
         {
          "font": {
           "size": 12
          },
          "showarrow": false,
          "text": "99.97",
          "x": "w35",
          "xref": "x",
          "y": "Service_H",
          "yref": "y"
         },
         {
          "font": {
           "size": 12
          },
          "showarrow": false,
          "text": "99.93",
          "x": "w36",
          "xref": "x",
          "y": "Service_H",
          "yref": "y"
         },
         {
          "font": {
           "size": 12
          },
          "showarrow": false,
          "text": "99.93",
          "x": "w37",
          "xref": "x",
          "y": "Service_H",
          "yref": "y"
         },
         {
          "font": {
           "size": 12
          },
          "showarrow": false,
          "text": "99.96",
          "x": "w38",
          "xref": "x",
          "y": "Service_H",
          "yref": "y"
         },
         {
          "font": {
           "size": 12
          },
          "showarrow": false,
          "text": "99.94",
          "x": "w39",
          "xref": "x",
          "y": "Service_H",
          "yref": "y"
         },
         {
          "font": {
           "size": 12
          },
          "showarrow": false,
          "text": "99.97",
          "x": "w40",
          "xref": "x",
          "y": "Service_H",
          "yref": "y"
         },
         {
          "font": {
           "size": 12
          },
          "showarrow": false,
          "text": "99.94",
          "x": "w41",
          "xref": "x",
          "y": "Service_H",
          "yref": "y"
         },
         {
          "font": {
           "size": 12
          },
          "showarrow": false,
          "text": "99.95",
          "x": "w42",
          "xref": "x",
          "y": "Service_H",
          "yref": "y"
         }
        ],
        "autosize": true,
        "template": {
         "data": {
          "bar": [
           {
            "error_x": {
             "color": "#2a3f5f"
            },
            "error_y": {
             "color": "#2a3f5f"
            },
            "marker": {
             "line": {
              "color": "#E5ECF6",
              "width": 0.5
             },
             "pattern": {
              "fillmode": "overlay",
              "size": 10,
              "solidity": 0.2
             }
            },
            "type": "bar"
           }
          ],
          "barpolar": [
           {
            "marker": {
             "line": {
              "color": "#E5ECF6",
              "width": 0.5
             },
             "pattern": {
              "fillmode": "overlay",
              "size": 10,
              "solidity": 0.2
             }
            },
            "type": "barpolar"
           }
          ],
          "carpet": [
           {
            "aaxis": {
             "endlinecolor": "#2a3f5f",
             "gridcolor": "white",
             "linecolor": "white",
             "minorgridcolor": "white",
             "startlinecolor": "#2a3f5f"
            },
            "baxis": {
             "endlinecolor": "#2a3f5f",
             "gridcolor": "white",
             "linecolor": "white",
             "minorgridcolor": "white",
             "startlinecolor": "#2a3f5f"
            },
            "type": "carpet"
           }
          ],
          "choropleth": [
           {
            "colorbar": {
             "outlinewidth": 0,
             "ticks": ""
            },
            "type": "choropleth"
           }
          ],
          "contour": [
           {
            "colorbar": {
             "outlinewidth": 0,
             "ticks": ""
            },
            "colorscale": [
             [
              0,
              "#0d0887"
             ],
             [
              0.1111111111111111,
              "#46039f"
             ],
             [
              0.2222222222222222,
              "#7201a8"
             ],
             [
              0.3333333333333333,
              "#9c179e"
             ],
             [
              0.4444444444444444,
              "#bd3786"
             ],
             [
              0.5555555555555556,
              "#d8576b"
             ],
             [
              0.6666666666666666,
              "#ed7953"
             ],
             [
              0.7777777777777778,
              "#fb9f3a"
             ],
             [
              0.8888888888888888,
              "#fdca26"
             ],
             [
              1,
              "#f0f921"
             ]
            ],
            "type": "contour"
           }
          ],
          "contourcarpet": [
           {
            "colorbar": {
             "outlinewidth": 0,
             "ticks": ""
            },
            "type": "contourcarpet"
           }
          ],
          "heatmap": [
           {
            "colorbar": {
             "outlinewidth": 0,
             "ticks": ""
            },
            "colorscale": [
             [
              0,
              "#0d0887"
             ],
             [
              0.1111111111111111,
              "#46039f"
             ],
             [
              0.2222222222222222,
              "#7201a8"
             ],
             [
              0.3333333333333333,
              "#9c179e"
             ],
             [
              0.4444444444444444,
              "#bd3786"
             ],
             [
              0.5555555555555556,
              "#d8576b"
             ],
             [
              0.6666666666666666,
              "#ed7953"
             ],
             [
              0.7777777777777778,
              "#fb9f3a"
             ],
             [
              0.8888888888888888,
              "#fdca26"
             ],
             [
              1,
              "#f0f921"
             ]
            ],
            "type": "heatmap"
           }
          ],
          "heatmapgl": [
           {
            "colorbar": {
             "outlinewidth": 0,
             "ticks": ""
            },
            "colorscale": [
             [
              0,
              "#0d0887"
             ],
             [
              0.1111111111111111,
              "#46039f"
             ],
             [
              0.2222222222222222,
              "#7201a8"
             ],
             [
              0.3333333333333333,
              "#9c179e"
             ],
             [
              0.4444444444444444,
              "#bd3786"
             ],
             [
              0.5555555555555556,
              "#d8576b"
             ],
             [
              0.6666666666666666,
              "#ed7953"
             ],
             [
              0.7777777777777778,
              "#fb9f3a"
             ],
             [
              0.8888888888888888,
              "#fdca26"
             ],
             [
              1,
              "#f0f921"
             ]
            ],
            "type": "heatmapgl"
           }
          ],
          "histogram": [
           {
            "marker": {
             "pattern": {
              "fillmode": "overlay",
              "size": 10,
              "solidity": 0.2
             }
            },
            "type": "histogram"
           }
          ],
          "histogram2d": [
           {
            "colorbar": {
             "outlinewidth": 0,
             "ticks": ""
            },
            "colorscale": [
             [
              0,
              "#0d0887"
             ],
             [
              0.1111111111111111,
              "#46039f"
             ],
             [
              0.2222222222222222,
              "#7201a8"
             ],
             [
              0.3333333333333333,
              "#9c179e"
             ],
             [
              0.4444444444444444,
              "#bd3786"
             ],
             [
              0.5555555555555556,
              "#d8576b"
             ],
             [
              0.6666666666666666,
              "#ed7953"
             ],
             [
              0.7777777777777778,
              "#fb9f3a"
             ],
             [
              0.8888888888888888,
              "#fdca26"
             ],
             [
              1,
              "#f0f921"
             ]
            ],
            "type": "histogram2d"
           }
          ],
          "histogram2dcontour": [
           {
            "colorbar": {
             "outlinewidth": 0,
             "ticks": ""
            },
            "colorscale": [
             [
              0,
              "#0d0887"
             ],
             [
              0.1111111111111111,
              "#46039f"
             ],
             [
              0.2222222222222222,
              "#7201a8"
             ],
             [
              0.3333333333333333,
              "#9c179e"
             ],
             [
              0.4444444444444444,
              "#bd3786"
             ],
             [
              0.5555555555555556,
              "#d8576b"
             ],
             [
              0.6666666666666666,
              "#ed7953"
             ],
             [
              0.7777777777777778,
              "#fb9f3a"
             ],
             [
              0.8888888888888888,
              "#fdca26"
             ],
             [
              1,
              "#f0f921"
             ]
            ],
            "type": "histogram2dcontour"
           }
          ],
          "mesh3d": [
           {
            "colorbar": {
             "outlinewidth": 0,
             "ticks": ""
            },
            "type": "mesh3d"
           }
          ],
          "parcoords": [
           {
            "line": {
             "colorbar": {
              "outlinewidth": 0,
              "ticks": ""
             }
            },
            "type": "parcoords"
           }
          ],
          "pie": [
           {
            "automargin": true,
            "type": "pie"
           }
          ],
          "scatter": [
           {
            "fillpattern": {
             "fillmode": "overlay",
             "size": 10,
             "solidity": 0.2
            },
            "type": "scatter"
           }
          ],
          "scatter3d": [
           {
            "line": {
             "colorbar": {
              "outlinewidth": 0,
              "ticks": ""
             }
            },
            "marker": {
             "colorbar": {
              "outlinewidth": 0,
              "ticks": ""
             }
            },
            "type": "scatter3d"
           }
          ],
          "scattercarpet": [
           {
            "marker": {
             "colorbar": {
              "outlinewidth": 0,
              "ticks": ""
             }
            },
            "type": "scattercarpet"
           }
          ],
          "scattergeo": [
           {
            "marker": {
             "colorbar": {
              "outlinewidth": 0,
              "ticks": ""
             }
            },
            "type": "scattergeo"
           }
          ],
          "scattergl": [
           {
            "marker": {
             "colorbar": {
              "outlinewidth": 0,
              "ticks": ""
             }
            },
            "type": "scattergl"
           }
          ],
          "scattermapbox": [
           {
            "marker": {
             "colorbar": {
              "outlinewidth": 0,
              "ticks": ""
             }
            },
            "type": "scattermapbox"
           }
          ],
          "scatterpolar": [
           {
            "marker": {
             "colorbar": {
              "outlinewidth": 0,
              "ticks": ""
             }
            },
            "type": "scatterpolar"
           }
          ],
          "scatterpolargl": [
           {
            "marker": {
             "colorbar": {
              "outlinewidth": 0,
              "ticks": ""
             }
            },
            "type": "scatterpolargl"
           }
          ],
          "scatterternary": [
           {
            "marker": {
             "colorbar": {
              "outlinewidth": 0,
              "ticks": ""
             }
            },
            "type": "scatterternary"
           }
          ],
          "surface": [
           {
            "colorbar": {
             "outlinewidth": 0,
             "ticks": ""
            },
            "colorscale": [
             [
              0,
              "#0d0887"
             ],
             [
              0.1111111111111111,
              "#46039f"
             ],
             [
              0.2222222222222222,
              "#7201a8"
             ],
             [
              0.3333333333333333,
              "#9c179e"
             ],
             [
              0.4444444444444444,
              "#bd3786"
             ],
             [
              0.5555555555555556,
              "#d8576b"
             ],
             [
              0.6666666666666666,
              "#ed7953"
             ],
             [
              0.7777777777777778,
              "#fb9f3a"
             ],
             [
              0.8888888888888888,
              "#fdca26"
             ],
             [
              1,
              "#f0f921"
             ]
            ],
            "type": "surface"
           }
          ],
          "table": [
           {
            "cells": {
             "fill": {
              "color": "#EBF0F8"
             },
             "line": {
              "color": "white"
             }
            },
            "header": {
             "fill": {
              "color": "#C8D4E3"
             },
             "line": {
              "color": "white"
             }
            },
            "type": "table"
           }
          ]
         },
         "layout": {
          "annotationdefaults": {
           "arrowcolor": "#2a3f5f",
           "arrowhead": 0,
           "arrowwidth": 1
          },
          "autotypenumbers": "strict",
          "coloraxis": {
           "colorbar": {
            "outlinewidth": 0,
            "ticks": ""
           }
          },
          "colorscale": {
           "diverging": [
            [
             0,
             "#8e0152"
            ],
            [
             0.1,
             "#c51b7d"
            ],
            [
             0.2,
             "#de77ae"
            ],
            [
             0.3,
             "#f1b6da"
            ],
            [
             0.4,
             "#fde0ef"
            ],
            [
             0.5,
             "#f7f7f7"
            ],
            [
             0.6,
             "#e6f5d0"
            ],
            [
             0.7,
             "#b8e186"
            ],
            [
             0.8,
             "#7fbc41"
            ],
            [
             0.9,
             "#4d9221"
            ],
            [
             1,
             "#276419"
            ]
           ],
           "sequential": [
            [
             0,
             "#0d0887"
            ],
            [
             0.1111111111111111,
             "#46039f"
            ],
            [
             0.2222222222222222,
             "#7201a8"
            ],
            [
             0.3333333333333333,
             "#9c179e"
            ],
            [
             0.4444444444444444,
             "#bd3786"
            ],
            [
             0.5555555555555556,
             "#d8576b"
            ],
            [
             0.6666666666666666,
             "#ed7953"
            ],
            [
             0.7777777777777778,
             "#fb9f3a"
            ],
            [
             0.8888888888888888,
             "#fdca26"
            ],
            [
             1,
             "#f0f921"
            ]
           ],
           "sequentialminus": [
            [
             0,
             "#0d0887"
            ],
            [
             0.1111111111111111,
             "#46039f"
            ],
            [
             0.2222222222222222,
             "#7201a8"
            ],
            [
             0.3333333333333333,
             "#9c179e"
            ],
            [
             0.4444444444444444,
             "#bd3786"
            ],
            [
             0.5555555555555556,
             "#d8576b"
            ],
            [
             0.6666666666666666,
             "#ed7953"
            ],
            [
             0.7777777777777778,
             "#fb9f3a"
            ],
            [
             0.8888888888888888,
             "#fdca26"
            ],
            [
             1,
             "#f0f921"
            ]
           ]
          },
          "colorway": [
           "#636efa",
           "#EF553B",
           "#00cc96",
           "#ab63fa",
           "#FFA15A",
           "#19d3f3",
           "#FF6692",
           "#B6E880",
           "#FF97FF",
           "#FECB52"
          ],
          "font": {
           "color": "#2a3f5f"
          },
          "geo": {
           "bgcolor": "white",
           "lakecolor": "white",
           "landcolor": "#E5ECF6",
           "showlakes": true,
           "showland": true,
           "subunitcolor": "white"
          },
          "hoverlabel": {
           "align": "left"
          },
          "hovermode": "closest",
          "mapbox": {
           "style": "light"
          },
          "paper_bgcolor": "white",
          "plot_bgcolor": "#E5ECF6",
          "polar": {
           "angularaxis": {
            "gridcolor": "white",
            "linecolor": "white",
            "ticks": ""
           },
           "bgcolor": "#E5ECF6",
           "radialaxis": {
            "gridcolor": "white",
            "linecolor": "white",
            "ticks": ""
           }
          },
          "scene": {
           "xaxis": {
            "backgroundcolor": "#E5ECF6",
            "gridcolor": "white",
            "gridwidth": 2,
            "linecolor": "white",
            "showbackground": true,
            "ticks": "",
            "zerolinecolor": "white"
           },
           "yaxis": {
            "backgroundcolor": "#E5ECF6",
            "gridcolor": "white",
            "gridwidth": 2,
            "linecolor": "white",
            "showbackground": true,
            "ticks": "",
            "zerolinecolor": "white"
           },
           "zaxis": {
            "backgroundcolor": "#E5ECF6",
            "gridcolor": "white",
            "gridwidth": 2,
            "linecolor": "white",
            "showbackground": true,
            "ticks": "",
            "zerolinecolor": "white"
           }
          },
          "shapedefaults": {
           "line": {
            "color": "#2a3f5f"
           }
          },
          "ternary": {
           "aaxis": {
            "gridcolor": "white",
            "linecolor": "white",
            "ticks": ""
           },
           "baxis": {
            "gridcolor": "white",
            "linecolor": "white",
            "ticks": ""
           },
           "bgcolor": "#E5ECF6",
           "caxis": {
            "gridcolor": "white",
            "linecolor": "white",
            "ticks": ""
           }
          },
          "title": {
           "x": 0.05
          },
          "xaxis": {
           "automargin": true,
           "gridcolor": "white",
           "linecolor": "white",
           "ticks": "",
           "title": {
            "standoff": 15
           },
           "zerolinecolor": "white",
           "zerolinewidth": 2
          },
          "yaxis": {
           "automargin": true,
           "gridcolor": "white",
           "linecolor": "white",
           "ticks": "",
           "title": {
            "standoff": 15
           },
           "zerolinecolor": "white",
           "zerolinewidth": 2
          }
         }
        },
        "title": {
         "text": "Service Availability Heatmap"
        },
        "xaxis": {
         "autorange": true,
         "range": [
          -0.5,
          11.5
         ],
         "title": {
          "text": "Week"
         },
         "type": "category"
        },
        "yaxis": {
         "autorange": true,
         "range": [
          -0.5,
          7.5
         ],
         "title": {
          "text": "Service"
         },
         "type": "category"
        }
       }
      },
      "image/png": "[encoded data removed]",
      "text/html": [
       "<div>                            <div id=\"6aa499af-43a1-49f8-9470-0415d35fb3ef\" class=\"plotly-graph-div\" style=\"height:525px; width:100%;\"></div>            <script type=\"text/javascript\">                require([\"plotly\"], function(Plotly) {                    window.PLOTLYENV=window.PLOTLYENV || {};                                    if (document.getElementById(\"6aa499af-43a1-49f8-9470-0415d35fb3ef\")) {                    Plotly.newPlot(                        \"6aa499af-43a1-49f8-9470-0415d35fb3ef\",                        [{\"colorscale\":[[0,\"rgb(128,30,30)\"],[0.99,\"rgb(128,30,30)\"],[0.999,\"rgb(255,100,0)\"],[0.999001,\"rgb(255,255,50)\"],[1,\"rgb(0,128,50)\"]],\"hoverinfo\":\"text\",\"showscale\":false,\"x\":[\"w31\",\"w32\",\"w33\",\"w34\",\"w35\",\"w36\",\"w37\",\"w38\",\"w39\",\"w40\",\"w41\",\"w42\"],\"y\":[\"Service_A\",\"Service_B\",\"Service_C\",\"Service_D\",\"Service_E\",\"Service_F\",\"Service_G\",\"Service_H\"],\"z\":[[99.63,99.35,99.88,99.95,99.95,99.95,99.95,99.95,99.95,99.95,99.95,99.95],[99.95,99.95,99.95,99.95,99.95,99.95,99.95,99.95,99.95,99.9,99.88,99.85],[99.94136265094211,99.96706075061812,99.94791688292574,99.95712734082056,99.93916586893387,99.96157705969347,99.93406417102207,99.94444177050893,99.94956057805697,99.94903675867302,99.964468533286,99.94565380065885],[99.93811262007343,99.95255185117085,99.94627972034282,99.96855970719592,99.94657662015373,99.94030633091535,99.93427310234145,99.95472970371775,99.93782118590151,99.96177888158317,99.93626658772031,99.93996146099828],[99.93344553641586,99.95282887511023,99.93219255112749,99.94458780060823,99.95260185316249,99.93469278820007,99.93376444438083,99.94206282557262,99.96787187290789,99.9671172993332,99.93302827656406,99.94194656615943],[99.9371970329056,99.9638172989083,99.94093534861368,99.93867157849068,99.95906095420314,99.93842360727263,99.9648324201419,99.9616709539199,99.96533280304128,99.9497852351679,99.9440658319058,99.93161974578514],[99.96084126797133,99.9335455328532,99.96576523315328,99.96057779499604,99.93004434775679,99.96786138309872,99.96257944695566,99.94872260979713,99.93562642224391,99.96501900540665,99.94958684862945,99.95524273784928],[99.94491317114226,99.96853249040656,99.94292667921682,99.93432546117454,99.96506336369407,99.93067016482537,99.93260488810841,99.96299320774233,99.93707834906233,99.96523176528325,99.93525972320488,99.94838699456147]],\"zmax\":100,\"zmin\":0,\"type\":\"heatmap\"}],                        {\"template\":{\"data\":{\"histogram2dcontour\":[{\"type\":\"histogram2dcontour\",\"colorbar\":{\"outlinewidth\":0,\"ticks\":\"\"},\"colorscale\":[[0.0,\"#0d0887\"],[0.1111111111111111,\"#46039f\"],[0.2222222222222222,\"#7201a8\"],[0.3333333333333333,\"#9c179e\"],[0.4444444444444444,\"#bd3786\"],[0.5555555555555556,\"#d8576b\"],[0.6666666666666666,\"#ed7953\"],[0.7777777777777778,\"#fb9f3a\"],[0.8888888888888888,\"#fdca26\"],[1.0,\"#f0f921\"]]}],\"choropleth\":[{\"type\":\"choropleth\",\"colorbar\":{\"outlinewidth\":0,\"ticks\":\"\"}}],\"histogram2d\":[{\"type\":\"histogram2d\",\"colorbar\":{\"outlinewidth\":0,\"ticks\":\"\"},\"colorscale\":[[0.0,\"#0d0887\"],[0.1111111111111111,\"#46039f\"],[0.2222222222222222,\"#7201a8\"],[0.3333333333333333,\"#9c179e\"],[0.4444444444444444,\"#bd3786\"],[0.5555555555555556,\"#d8576b\"],[0.6666666666666666,\"#ed7953\"],[0.7777777777777778,\"#fb9f3a\"],[0.8888888888888888,\"#fdca26\"],[1.0,\"#f0f921\"]]}],\"heatmap\":[{\"type\":\"heatmap\",\"colorbar\":{\"outlinewidth\":0,\"ticks\":\"\"},\"colorscale\":[[0.0,\"#0d0887\"],[0.1111111111111111,\"#46039f\"],[0.2222222222222222,\"#7201a8\"],[0.3333333333333333,\"#9c179e\"],[0.4444444444444444,\"#bd3786\"],[0.5555555555555556,\"#d8576b\"],[0.6666666666666666,\"#ed7953\"],[0.7777777777777778,\"#fb9f3a\"],[0.8888888888888888,\"#fdca26\"],[1.0,\"#f0f921\"]]}],\"heatmapgl\":[{\"type\":\"heatmapgl\",\"colorbar\":{\"outlinewidth\":0,\"ticks\":\"\"},\"colorscale\":[[0.0,\"#0d0887\"],[0.1111111111111111,\"#46039f\"],[0.2222222222222222,\"#7201a8\"],[0.3333333333333333,\"#9c179e\"],[0.4444444444444444,\"#bd3786\"],[0.5555555555555556,\"#d8576b\"],[0.6666666666666666,\"#ed7953\"],[0.7777777777777778,\"#fb9f3a\"],[0.8888888888888888,\"#fdca26\"],[1.0,\"#f0f921\"]]}],\"contourcarpet\":[{\"type\":\"contourcarpet\",\"colorbar\":{\"outlinewidth\":0,\"ticks\":\"\"}}],\"contour\":[{\"type\":\"contour\",\"colorbar\":{\"outlinewidth\":0,\"ticks\":\"\"},\"colorscale\":[[0.0,\"#0d0887\"],[0.1111111111111111,\"#46039f\"],[0.2222222222222222,\"#7201a8\"],[0.3333333333333333,\"#9c179e\"],[0.4444444444444444,\"#bd3786\"],[0.5555555555555556,\"#d8576b\"],[0.6666666666666666,\"#ed7953\"],[0.7777777777777778,\"#fb9f3a\"],[0.8888888888888888,\"#fdca26\"],[1.0,\"#f0f921\"]]}],\"surface\":[{\"type\":\"surface\",\"colorbar\":{\"outlinewidth\":0,\"ticks\":\"\"},\"colorscale\":[[0.0,\"#0d0887\"],[0.1111111111111111,\"#46039f\"],[0.2222222222222222,\"#7201a8\"],[0.3333333333333333,\"#9c179e\"],[0.4444444444444444,\"#bd3786\"],[0.5555555555555556,\"#d8576b\"],[0.6666666666666666,\"#ed7953\"],[0.7777777777777778,\"#fb9f3a\"],[0.8888888888888888,\"#fdca26\"],[1.0,\"#f0f921\"]]}],\"mesh3d\":[{\"type\":\"mesh3d\",\"colorbar\":{\"outlinewidth\":0,\"ticks\":\"\"}}],\"scatter\":[{\"fillpattern\":{\"fillmode\":\"overlay\",\"size\":10,\"solidity\":0.2},\"type\":\"scatter\"}],\"parcoords\":[{\"type\":\"parcoords\",\"line\":{\"colorbar\":{\"outlinewidth\":0,\"ticks\":\"\"}}}],\"scatterpolargl\":[{\"type\":\"scatterpolargl\",\"marker\":{\"colorbar\":{\"outlinewidth\":0,\"ticks\":\"\"}}}],\"bar\":[{\"error_x\":{\"color\":\"#2a3f5f\"},\"error_y\":{\"color\":\"#2a3f5f\"},\"marker\":{\"line\":{\"color\":\"#E5ECF6\",\"width\":0.5},\"pattern\":{\"fillmode\":\"overlay\",\"size\":10,\"solidity\":0.2}},\"type\":\"bar\"}],\"scattergeo\":[{\"type\":\"scattergeo\",\"marker\":{\"colorbar\":{\"outlinewidth\":0,\"ticks\":\"\"}}}],\"scatterpolar\":[{\"type\":\"scatterpolar\",\"marker\":{\"colorbar\":{\"outlinewidth\":0,\"ticks\":\"\"}}}],\"histogram\":[{\"marker\":{\"pattern\":{\"fillmode\":\"overlay\",\"size\":10,\"solidity\":0.2}},\"type\":\"histogram\"}],\"scattergl\":[{\"type\":\"scattergl\",\"marker\":{\"colorbar\":{\"outlinewidth\":0,\"ticks\":\"\"}}}],\"scatter3d\":[{\"type\":\"scatter3d\",\"line\":{\"colorbar\":{\"outlinewidth\":0,\"ticks\":\"\"}},\"marker\":{\"colorbar\":{\"outlinewidth\":0,\"ticks\":\"\"}}}],\"scattermapbox\":[{\"type\":\"scattermapbox\",\"marker\":{\"colorbar\":{\"outlinewidth\":0,\"ticks\":\"\"}}}],\"scatterternary\":[{\"type\":\"scatterternary\",\"marker\":{\"colorbar\":{\"outlinewidth\":0,\"ticks\":\"\"}}}],\"scattercarpet\":[{\"type\":\"scattercarpet\",\"marker\":{\"colorbar\":{\"outlinewidth\":0,\"ticks\":\"\"}}}],\"carpet\":[{\"aaxis\":{\"endlinecolor\":\"#2a3f5f\",\"gridcolor\":\"white\",\"linecolor\":\"white\",\"minorgridcolor\":\"white\",\"startlinecolor\":\"#2a3f5f\"},\"baxis\":{\"endlinecolor\":\"#2a3f5f\",\"gridcolor\":\"white\",\"linecolor\":\"white\",\"minorgridcolor\":\"white\",\"startlinecolor\":\"#2a3f5f\"},\"type\":\"carpet\"}],\"table\":[{\"cells\":{\"fill\":{\"color\":\"#EBF0F8\"},\"line\":{\"color\":\"white\"}},\"header\":{\"fill\":{\"color\":\"#C8D4E3\"},\"line\":{\"color\":\"white\"}},\"type\":\"table\"}],\"barpolar\":[{\"marker\":{\"line\":{\"color\":\"#E5ECF6\",\"width\":0.5},\"pattern\":{\"fillmode\":\"overlay\",\"size\":10,\"solidity\":0.2}},\"type\":\"barpolar\"}],\"pie\":[{\"automargin\":true,\"type\":\"pie\"}]},\"layout\":{\"autotypenumbers\":\"strict\",\"colorway\":[\"#636efa\",\"#EF553B\",\"#00cc96\",\"#ab63fa\",\"#FFA15A\",\"#19d3f3\",\"#FF6692\",\"#B6E880\",\"#FF97FF\",\"#FECB52\"],\"font\":{\"color\":\"#2a3f5f\"},\"hovermode\":\"closest\",\"hoverlabel\":{\"align\":\"left\"},\"paper_bgcolor\":\"white\",\"plot_bgcolor\":\"#E5ECF6\",\"polar\":{\"bgcolor\":\"#E5ECF6\",\"angularaxis\":{\"gridcolor\":\"white\",\"linecolor\":\"white\",\"ticks\":\"\"},\"radialaxis\":{\"gridcolor\":\"white\",\"linecolor\":\"white\",\"ticks\":\"\"}},\"ternary\":{\"bgcolor\":\"#E5ECF6\",\"aaxis\":{\"gridcolor\":\"white\",\"linecolor\":\"white\",\"ticks\":\"\"},\"baxis\":{\"gridcolor\":\"white\",\"linecolor\":\"white\",\"ticks\":\"\"},\"caxis\":{\"gridcolor\":\"white\",\"linecolor\":\"white\",\"ticks\":\"\"}},\"coloraxis\":{\"colorbar\":{\"outlinewidth\":0,\"ticks\":\"\"}},\"colorscale\":{\"sequential\":[[0.0,\"#0d0887\"],[0.1111111111111111,\"#46039f\"],[0.2222222222222222,\"#7201a8\"],[0.3333333333333333,\"#9c179e\"],[0.4444444444444444,\"#bd3786\"],[0.5555555555555556,\"#d8576b\"],[0.6666666666666666,\"#ed7953\"],[0.7777777777777778,\"#fb9f3a\"],[0.8888888888888888,\"#fdca26\"],[1.0,\"#f0f921\"]],\"sequentialminus\":[[0.0,\"#0d0887\"],[0.1111111111111111,\"#46039f\"],[0.2222222222222222,\"#7201a8\"],[0.3333333333333333,\"#9c179e\"],[0.4444444444444444,\"#bd3786\"],[0.5555555555555556,\"#d8576b\"],[0.6666666666666666,\"#ed7953\"],[0.7777777777777778,\"#fb9f3a\"],[0.8888888888888888,\"#fdca26\"],[1.0,\"#f0f921\"]],\"diverging\":[[0,\"#8e0152\"],[0.1,\"#c51b7d\"],[0.2,\"#de77ae\"],[0.3,\"#f1b6da\"],[0.4,\"#fde0ef\"],[0.5,\"#f7f7f7\"],[0.6,\"#e6f5d0\"],[0.7,\"#b8e186\"],[0.8,\"#7fbc41\"],[0.9,\"#4d9221\"],[1,\"#276419\"]]},\"xaxis\":{\"gridcolor\":\"white\",\"linecolor\":\"white\",\"ticks\":\"\",\"title\":{\"standoff\":15},\"zerolinecolor\":\"white\",\"automargin\":true,\"zerolinewidth\":2},\"yaxis\":{\"gridcolor\":\"white\",\"linecolor\":\"white\",\"ticks\":\"\",\"title\":{\"standoff\":15},\"zerolinecolor\":\"white\",\"automargin\":true,\"zerolinewidth\":2},\"scene\":{\"xaxis\":{\"backgroundcolor\":\"#E5ECF6\",\"gridcolor\":\"white\",\"linecolor\":\"white\",\"showbackground\":true,\"ticks\":\"\",\"zerolinecolor\":\"white\",\"gridwidth\":2},\"yaxis\":{\"backgroundcolor\":\"#E5ECF6\",\"gridcolor\":\"white\",\"linecolor\":\"white\",\"showbackground\":true,\"ticks\":\"\",\"zerolinecolor\":\"white\",\"gridwidth\":2},\"zaxis\":{\"backgroundcolor\":\"#E5ECF6\",\"gridcolor\":\"white\",\"linecolor\":\"white\",\"showbackground\":true,\"ticks\":\"\",\"zerolinecolor\":\"white\",\"gridwidth\":2}},\"shapedefaults\":{\"line\":{\"color\":\"#2a3f5f\"}},\"annotationdefaults\":{\"arrowcolor\":\"#2a3f5f\",\"arrowhead\":0,\"arrowwidth\":1},\"geo\":{\"bgcolor\":\"white\",\"landcolor\":\"#E5ECF6\",\"subunitcolor\":\"white\",\"showland\":true,\"showlakes\":true,\"lakecolor\":\"white\"},\"title\":{\"x\":0.05},\"mapbox\":{\"style\":\"light\"}}},\"title\":{\"text\":\"Service Availability Heatmap\"},\"xaxis\":{\"title\":{\"text\":\"Week\"}},\"yaxis\":{\"title\":{\"text\":\"Service\"}},\"annotations\":[{\"font\":{\"size\":12},\"showarrow\":false,\"text\":\"99.63\",\"x\":\"w31\",\"xref\":\"x\",\"y\":\"Service_A\",\"yref\":\"y\"},{\"font\":{\"size\":12},\"showarrow\":false,\"text\":\"99.35\",\"x\":\"w32\",\"xref\":\"x\",\"y\":\"Service_A\",\"yref\":\"y\"},{\"font\":{\"size\":12},\"showarrow\":false,\"text\":\"99.88\",\"x\":\"w33\",\"xref\":\"x\",\"y\":\"Service_A\",\"yref\":\"y\"},{\"font\":{\"size\":12},\"showarrow\":false,\"text\":\"99.95\",\"x\":\"w34\",\"xref\":\"x\",\"y\":\"Service_A\",\"yref\":\"y\"},{\"font\":{\"size\":12},\"showarrow\":false,\"text\":\"99.95\",\"x\":\"w35\",\"xref\":\"x\",\"y\":\"Service_A\",\"yref\":\"y\"},{\"font\":{\"size\":12},\"showarrow\":false,\"text\":\"99.95\",\"x\":\"w36\",\"xref\":\"x\",\"y\":\"Service_A\",\"yref\":\"y\"},{\"font\":{\"size\":12},\"showarrow\":false,\"text\":\"99.95\",\"x\":\"w37\",\"xref\":\"x\",\"y\":\"Service_A\",\"yref\":\"y\"},{\"font\":{\"size\":12},\"showarrow\":false,\"text\":\"99.95\",\"x\":\"w38\",\"xref\":\"x\",\"y\":\"Service_A\",\"yref\":\"y\"},{\"font\":{\"size\":12},\"showarrow\":false,\"text\":\"99.95\",\"x\":\"w39\",\"xref\":\"x\",\"y\":\"Service_A\",\"yref\":\"y\"},{\"font\":{\"size\":12},\"showarrow\":false,\"text\":\"99.95\",\"x\":\"w40\",\"xref\":\"x\",\"y\":\"Service_A\",\"yref\":\"y\"},{\"font\":{\"size\":12},\"showarrow\":false,\"text\":\"99.95\",\"x\":\"w41\",\"xref\":\"x\",\"y\":\"Service_A\",\"yref\":\"y\"},{\"font\":{\"size\":12},\"showarrow\":false,\"text\":\"99.95\",\"x\":\"w42\",\"xref\":\"x\",\"y\":\"Service_A\",\"yref\":\"y\"},{\"font\":{\"size\":12},\"showarrow\":false,\"text\":\"99.95\",\"x\":\"w31\",\"xref\":\"x\",\"y\":\"Service_B\",\"yref\":\"y\"},{\"font\":{\"size\":12},\"showarrow\":false,\"text\":\"99.95\",\"x\":\"w32\",\"xref\":\"x\",\"y\":\"Service_B\",\"yref\":\"y\"},{\"font\":{\"size\":12},\"showarrow\":false,\"text\":\"99.95\",\"x\":\"w33\",\"xref\":\"x\",\"y\":\"Service_B\",\"yref\":\"y\"},{\"font\":{\"size\":12},\"showarrow\":false,\"text\":\"99.95\",\"x\":\"w34\",\"xref\":\"x\",\"y\":\"Service_B\",\"yref\":\"y\"},{\"font\":{\"size\":12},\"showarrow\":false,\"text\":\"99.95\",\"x\":\"w35\",\"xref\":\"x\",\"y\":\"Service_B\",\"yref\":\"y\"},{\"font\":{\"size\":12},\"showarrow\":false,\"text\":\"99.95\",\"x\":\"w36\",\"xref\":\"x\",\"y\":\"Service_B\",\"yref\":\"y\"},{\"font\":{\"size\":12},\"showarrow\":false,\"text\":\"99.95\",\"x\":\"w37\",\"xref\":\"x\",\"y\":\"Service_B\",\"yref\":\"y\"},{\"font\":{\"size\":12},\"showarrow\":false,\"text\":\"99.95\",\"x\":\"w38\",\"xref\":\"x\",\"y\":\"Service_B\",\"yref\":\"y\"},{\"font\":{\"size\":12},\"showarrow\":false,\"text\":\"99.95\",\"x\":\"w39\",\"xref\":\"x\",\"y\":\"Service_B\",\"yref\":\"y\"},{\"font\":{\"size\":12},\"showarrow\":false,\"text\":\"99.90\",\"x\":\"w40\",\"xref\":\"x\",\"y\":\"Service_B\",\"yref\":\"y\"},{\"font\":{\"size\":12},\"showarrow\":false,\"text\":\"99.88\",\"x\":\"w41\",\"xref\":\"x\",\"y\":\"Service_B\",\"yref\":\"y\"},{\"font\":{\"size\":12},\"showarrow\":false,\"text\":\"99.85\",\"x\":\"w42\",\"xref\":\"x\",\"y\":\"Service_B\",\"yref\":\"y\"},{\"font\":{\"size\":12},\"showarrow\":false,\"text\":\"99.94\",\"x\":\"w31\",\"xref\":\"x\",\"y\":\"Service_C\",\"yref\":\"y\"},{\"font\":{\"size\":12},\"showarrow\":false,\"text\":\"99.97\",\"x\":\"w32\",\"xref\":\"x\",\"y\":\"Service_C\",\"yref\":\"y\"},{\"font\":{\"size\":12},\"showarrow\":false,\"text\":\"99.95\",\"x\":\"w33\",\"xref\":\"x\",\"y\":\"Service_C\",\"yref\":\"y\"},{\"font\":{\"size\":12},\"showarrow\":false,\"text\":\"99.96\",\"x\":\"w34\",\"xref\":\"x\",\"y\":\"Service_C\",\"yref\":\"y\"},{\"font\":{\"size\":12},\"showarrow\":false,\"text\":\"99.94\",\"x\":\"w35\",\"xref\":\"x\",\"y\":\"Service_C\",\"yref\":\"y\"},{\"font\":{\"size\":12},\"showarrow\":false,\"text\":\"99.96\",\"x\":\"w36\",\"xref\":\"x\",\"y\":\"Service_C\",\"yref\":\"y\"},{\"font\":{\"size\":12},\"showarrow\":false,\"text\":\"99.93\",\"x\":\"w37\",\"xref\":\"x\",\"y\":\"Service_C\",\"yref\":\"y\"},{\"font\":{\"size\":12},\"showarrow\":false,\"text\":\"99.94\",\"x\":\"w38\",\"xref\":\"x\",\"y\":\"Service_C\",\"yref\":\"y\"},{\"font\":{\"size\":12},\"showarrow\":false,\"text\":\"99.95\",\"x\":\"w39\",\"xref\":\"x\",\"y\":\"Service_C\",\"yref\":\"y\"},{\"font\":{\"size\":12},\"showarrow\":false,\"text\":\"99.95\",\"x\":\"w40\",\"xref\":\"x\",\"y\":\"Service_C\",\"yref\":\"y\"},{\"font\":{\"size\":12},\"showarrow\":false,\"text\":\"99.96\",\"x\":\"w41\",\"xref\":\"x\",\"y\":\"Service_C\",\"yref\":\"y\"},{\"font\":{\"size\":12},\"showarrow\":false,\"text\":\"99.95\",\"x\":\"w42\",\"xref\":\"x\",\"y\":\"Service_C\",\"yref\":\"y\"},{\"font\":{\"size\":12},\"showarrow\":false,\"text\":\"99.94\",\"x\":\"w31\",\"xref\":\"x\",\"y\":\"Service_D\",\"yref\":\"y\"},{\"font\":{\"size\":12},\"showarrow\":false,\"text\":\"99.95\",\"x\":\"w32\",\"xref\":\"x\",\"y\":\"Service_D\",\"yref\":\"y\"},{\"font\":{\"size\":12},\"showarrow\":false,\"text\":\"99.95\",\"x\":\"w33\",\"xref\":\"x\",\"y\":\"Service_D\",\"yref\":\"y\"},{\"font\":{\"size\":12},\"showarrow\":false,\"text\":\"99.97\",\"x\":\"w34\",\"xref\":\"x\",\"y\":\"Service_D\",\"yref\":\"y\"},{\"font\":{\"size\":12},\"showarrow\":false,\"text\":\"99.95\",\"x\":\"w35\",\"xref\":\"x\",\"y\":\"Service_D\",\"yref\":\"y\"},{\"font\":{\"size\":12},\"showarrow\":false,\"text\":\"99.94\",\"x\":\"w36\",\"xref\":\"x\",\"y\":\"Service_D\",\"yref\":\"y\"},{\"font\":{\"size\":12},\"showarrow\":false,\"text\":\"99.93\",\"x\":\"w37\",\"xref\":\"x\",\"y\":\"Service_D\",\"yref\":\"y\"},{\"font\":{\"size\":12},\"showarrow\":false,\"text\":\"99.95\",\"x\":\"w38\",\"xref\":\"x\",\"y\":\"Service_D\",\"yref\":\"y\"},{\"font\":{\"size\":12},\"showarrow\":false,\"text\":\"99.94\",\"x\":\"w39\",\"xref\":\"x\",\"y\":\"Service_D\",\"yref\":\"y\"},{\"font\":{\"size\":12},\"showarrow\":false,\"text\":\"99.96\",\"x\":\"w40\",\"xref\":\"x\",\"y\":\"Service_D\",\"yref\":\"y\"},{\"font\":{\"size\":12},\"showarrow\":false,\"text\":\"99.94\",\"x\":\"w41\",\"xref\":\"x\",\"y\":\"Service_D\",\"yref\":\"y\"},{\"font\":{\"size\":12},\"showarrow\":false,\"text\":\"99.94\",\"x\":\"w42\",\"xref\":\"x\",\"y\":\"Service_D\",\"yref\":\"y\"},{\"font\":{\"size\":12},\"showarrow\":false,\"text\":\"99.93\",\"x\":\"w31\",\"xref\":\"x\",\"y\":\"Service_E\",\"yref\":\"y\"},{\"font\":{\"size\":12},\"showarrow\":false,\"text\":\"99.95\",\"x\":\"w32\",\"xref\":\"x\",\"y\":\"Service_E\",\"yref\":\"y\"},{\"font\":{\"size\":12},\"showarrow\":false,\"text\":\"99.93\",\"x\":\"w33\",\"xref\":\"x\",\"y\":\"Service_E\",\"yref\":\"y\"},{\"font\":{\"size\":12},\"showarrow\":false,\"text\":\"99.94\",\"x\":\"w34\",\"xref\":\"x\",\"y\":\"Service_E\",\"yref\":\"y\"},{\"font\":{\"size\":12},\"showarrow\":false,\"text\":\"99.95\",\"x\":\"w35\",\"xref\":\"x\",\"y\":\"Service_E\",\"yref\":\"y\"},{\"font\":{\"size\":12},\"showarrow\":false,\"text\":\"99.93\",\"x\":\"w36\",\"xref\":\"x\",\"y\":\"Service_E\",\"yref\":\"y\"},{\"font\":{\"size\":12},\"showarrow\":false,\"text\":\"99.93\",\"x\":\"w37\",\"xref\":\"x\",\"y\":\"Service_E\",\"yref\":\"y\"},{\"font\":{\"size\":12},\"showarrow\":false,\"text\":\"99.94\",\"x\":\"w38\",\"xref\":\"x\",\"y\":\"Service_E\",\"yref\":\"y\"},{\"font\":{\"size\":12},\"showarrow\":false,\"text\":\"99.97\",\"x\":\"w39\",\"xref\":\"x\",\"y\":\"Service_E\",\"yref\":\"y\"},{\"font\":{\"size\":12},\"showarrow\":false,\"text\":\"99.97\",\"x\":\"w40\",\"xref\":\"x\",\"y\":\"Service_E\",\"yref\":\"y\"},{\"font\":{\"size\":12},\"showarrow\":false,\"text\":\"99.93\",\"x\":\"w41\",\"xref\":\"x\",\"y\":\"Service_E\",\"yref\":\"y\"},{\"font\":{\"size\":12},\"showarrow\":false,\"text\":\"99.94\",\"x\":\"w42\",\"xref\":\"x\",\"y\":\"Service_E\",\"yref\":\"y\"},{\"font\":{\"size\":12},\"showarrow\":false,\"text\":\"99.94\",\"x\":\"w31\",\"xref\":\"x\",\"y\":\"Service_F\",\"yref\":\"y\"},{\"font\":{\"size\":12},\"showarrow\":false,\"text\":\"99.96\",\"x\":\"w32\",\"xref\":\"x\",\"y\":\"Service_F\",\"yref\":\"y\"},{\"font\":{\"size\":12},\"showarrow\":false,\"text\":\"99.94\",\"x\":\"w33\",\"xref\":\"x\",\"y\":\"Service_F\",\"yref\":\"y\"},{\"font\":{\"size\":12},\"showarrow\":false,\"text\":\"99.94\",\"x\":\"w34\",\"xref\":\"x\",\"y\":\"Service_F\",\"yref\":\"y\"},{\"font\":{\"size\":12},\"showarrow\":false,\"text\":\"99.96\",\"x\":\"w35\",\"xref\":\"x\",\"y\":\"Service_F\",\"yref\":\"y\"},{\"font\":{\"size\":12},\"showarrow\":false,\"text\":\"99.94\",\"x\":\"w36\",\"xref\":\"x\",\"y\":\"Service_F\",\"yref\":\"y\"},{\"font\":{\"size\":12},\"showarrow\":false,\"text\":\"99.96\",\"x\":\"w37\",\"xref\":\"x\",\"y\":\"Service_F\",\"yref\":\"y\"},{\"font\":{\"size\":12},\"showarrow\":false,\"text\":\"99.96\",\"x\":\"w38\",\"xref\":\"x\",\"y\":\"Service_F\",\"yref\":\"y\"},{\"font\":{\"size\":12},\"showarrow\":false,\"text\":\"99.97\",\"x\":\"w39\",\"xref\":\"x\",\"y\":\"Service_F\",\"yref\":\"y\"},{\"font\":{\"size\":12},\"showarrow\":false,\"text\":\"99.95\",\"x\":\"w40\",\"xref\":\"x\",\"y\":\"Service_F\",\"yref\":\"y\"},{\"font\":{\"size\":12},\"showarrow\":false,\"text\":\"99.94\",\"x\":\"w41\",\"xref\":\"x\",\"y\":\"Service_F\",\"yref\":\"y\"},{\"font\":{\"size\":12},\"showarrow\":false,\"text\":\"99.93\",\"x\":\"w42\",\"xref\":\"x\",\"y\":\"Service_F\",\"yref\":\"y\"},{\"font\":{\"size\":12},\"showarrow\":false,\"text\":\"99.96\",\"x\":\"w31\",\"xref\":\"x\",\"y\":\"Service_G\",\"yref\":\"y\"},{\"font\":{\"size\":12},\"showarrow\":false,\"text\":\"99.93\",\"x\":\"w32\",\"xref\":\"x\",\"y\":\"Service_G\",\"yref\":\"y\"},{\"font\":{\"size\":12},\"showarrow\":false,\"text\":\"99.97\",\"x\":\"w33\",\"xref\":\"x\",\"y\":\"Service_G\",\"yref\":\"y\"},{\"font\":{\"size\":12},\"showarrow\":false,\"text\":\"99.96\",\"x\":\"w34\",\"xref\":\"x\",\"y\":\"Service_G\",\"yref\":\"y\"},{\"font\":{\"size\":12},\"showarrow\":false,\"text\":\"99.93\",\"x\":\"w35\",\"xref\":\"x\",\"y\":\"Service_G\",\"yref\":\"y\"},{\"font\":{\"size\":12},\"showarrow\":false,\"text\":\"99.97\",\"x\":\"w36\",\"xref\":\"x\",\"y\":\"Service_G\",\"yref\":\"y\"},{\"font\":{\"size\":12},\"showarrow\":false,\"text\":\"99.96\",\"x\":\"w37\",\"xref\":\"x\",\"y\":\"Service_G\",\"yref\":\"y\"},{\"font\":{\"size\":12},\"showarrow\":false,\"text\":\"99.95\",\"x\":\"w38\",\"xref\":\"x\",\"y\":\"Service_G\",\"yref\":\"y\"},{\"font\":{\"size\":12},\"showarrow\":false,\"text\":\"99.94\",\"x\":\"w39\",\"xref\":\"x\",\"y\":\"Service_G\",\"yref\":\"y\"},{\"font\":{\"size\":12},\"showarrow\":false,\"text\":\"99.97\",\"x\":\"w40\",\"xref\":\"x\",\"y\":\"Service_G\",\"yref\":\"y\"},{\"font\":{\"size\":12},\"showarrow\":false,\"text\":\"99.95\",\"x\":\"w41\",\"xref\":\"x\",\"y\":\"Service_G\",\"yref\":\"y\"},{\"font\":{\"size\":12},\"showarrow\":false,\"text\":\"99.96\",\"x\":\"w42\",\"xref\":\"x\",\"y\":\"Service_G\",\"yref\":\"y\"},{\"font\":{\"size\":12},\"showarrow\":false,\"text\":\"99.94\",\"x\":\"w31\",\"xref\":\"x\",\"y\":\"Service_H\",\"yref\":\"y\"},{\"font\":{\"size\":12},\"showarrow\":false,\"text\":\"99.97\",\"x\":\"w32\",\"xref\":\"x\",\"y\":\"Service_H\",\"yref\":\"y\"},{\"font\":{\"size\":12},\"showarrow\":false,\"text\":\"99.94\",\"x\":\"w33\",\"xref\":\"x\",\"y\":\"Service_H\",\"yref\":\"y\"},{\"font\":{\"size\":12},\"showarrow\":false,\"text\":\"99.93\",\"x\":\"w34\",\"xref\":\"x\",\"y\":\"Service_H\",\"yref\":\"y\"},{\"font\":{\"size\":12},\"showarrow\":false,\"text\":\"99.97\",\"x\":\"w35\",\"xref\":\"x\",\"y\":\"Service_H\",\"yref\":\"y\"},{\"font\":{\"size\":12},\"showarrow\":false,\"text\":\"99.93\",\"x\":\"w36\",\"xref\":\"x\",\"y\":\"Service_H\",\"yref\":\"y\"},{\"font\":{\"size\":12},\"showarrow\":false,\"text\":\"99.93\",\"x\":\"w37\",\"xref\":\"x\",\"y\":\"Service_H\",\"yref\":\"y\"},{\"font\":{\"size\":12},\"showarrow\":false,\"text\":\"99.96\",\"x\":\"w38\",\"xref\":\"x\",\"y\":\"Service_H\",\"yref\":\"y\"},{\"font\":{\"size\":12},\"showarrow\":false,\"text\":\"99.94\",\"x\":\"w39\",\"xref\":\"x\",\"y\":\"Service_H\",\"yref\":\"y\"},{\"font\":{\"size\":12},\"showarrow\":false,\"text\":\"99.97\",\"x\":\"w40\",\"xref\":\"x\",\"y\":\"Service_H\",\"yref\":\"y\"},{\"font\":{\"size\":12},\"showarrow\":false,\"text\":\"99.94\",\"x\":\"w41\",\"xref\":\"x\",\"y\":\"Service_H\",\"yref\":\"y\"},{\"font\":{\"size\":12},\"showarrow\":false,\"text\":\"99.95\",\"x\":\"w42\",\"xref\":\"x\",\"y\":\"Service_H\",\"yref\":\"y\"}]},                        {\"responsive\": true}                    ).then(function(){\n",
       "                            \n",
       "var gd = document.getElementById('6aa499af-43a1-49f8-9470-0415d35fb3ef');\n",
       "var x = new MutationObserver(function (mutations, observer) {{\n",
       "        var display = window.getComputedStyle(gd).display;\n",
       "        if (!display || display === 'none') {{\n",
       "            console.log([gd, 'removed!']);\n",
       "            Plotly.purge(gd);\n",
       "            observer.disconnect();\n",
       "        }}\n",
       "}});\n",
       "\n",
       "// Listen for the removal of the full notebook cells\n",
       "var notebookContainer = gd.closest('#notebook-container');\n",
       "if (notebookContainer) {{\n",
       "    x.observe(notebookContainer, {childList: true});\n",
       "}}\n",
       "\n",
       "// Listen for the clearing of the current output cell\n",
       "var outputEl = gd.closest('.output');\n",
       "if (outputEl) {{\n",
       "    x.observe(outputEl, {childList: true});\n",
       "}}\n",
       "\n",
       "                        })                };                });            </script>        </div>"
      ]
     },
     "metadata": {},
     "output_type": "display_data"
    }
   ],
   "source": [
    "df_rounded = df.round(2)\n",
    "\n",
    "colorscale = [\n",
    "    [0, 'rgb(128,30,30)'],  # Black\n",
    "    [0.99, 'rgb(128,30,30)'],  # Black\n",
    "    [0.999, 'rgb(255,100,0)'],  # Red\n",
    "    [0.999001, 'rgb(255,255,50)'],  # Yellow\n",
    "    [1, 'rgb(0,128,50)'],  # Green\n",
    "]\n",
    "\n",
    "fig = go.Figure(data=go.Heatmap(\n",
    "    z=df.values,\n",
    "    x=weeks,\n",
    "    y=services,\n",
    "    colorscale=colorscale,\n",
    "    zmin=0,\n",
    "    zmax=100,\n",
    "    hoverinfo='text',\n",
    "    showscale=False\n",
    "))\n",
    "\n",
    "annotations = []\n",
    "for i, row in enumerate(df_rounded.iterrows()):\n",
    "    for j, val in enumerate(row[1]):\n",
    "        annotations.append(\n",
    "            dict(\n",
    "                x=weeks[j],\n",
    "                y=services[i],\n",
    "                text=\"%.2f\" % val,\n",
    "                xref='x1',\n",
    "                yref='y1',\n",
    "                showarrow=False,\n",
    "                font=dict(size=12)\n",
    "            )\n",
    "        )\n",
    "\n",
    "fig.update_layout(\n",
    "    title='Service Availability Heatmap',\n",
    "    xaxis_title='Week',\n",
    "    yaxis_title='Service',\n",
    "    annotations=annotations\n",
    ")\n",
    "\n",
    "fig.show()"
   ]
  }
 ],
 "metadata": {
  "kernelspec": {
   "display_name": "Python 3 (ipykernel)",
   "language": "python",
   "name": "python3"
  },
  "language_info": {
   "codemirror_mode": {
    "name": "ipython",
    "version": 3
   },
   "file_extension": ".py",
   "mimetype": "text/x-python",
   "name": "python",
   "nbconvert_exporter": "python",
   "pygments_lexer": "ipython3",
   "version": "3.10.12"
  }
 },
 "nbformat": 4,
 "nbformat_minor": 5
}
